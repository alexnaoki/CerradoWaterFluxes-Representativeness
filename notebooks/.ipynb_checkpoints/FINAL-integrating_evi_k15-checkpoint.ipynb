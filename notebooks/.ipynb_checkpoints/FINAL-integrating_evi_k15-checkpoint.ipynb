{
 "cells": [
  {
   "cell_type": "code",
   "execution_count": 1,
   "id": "e379dd3b-1ee4-40fd-8b32-c64b4ae378a4",
   "metadata": {},
   "outputs": [],
   "source": [
    "%load_ext autoreload\n",
    "%autoreload 2"
   ]
  },
  {
   "cell_type": "code",
   "execution_count": 2,
   "id": "666c8332-6b28-4247-acb4-9a9e2fdedec5",
   "metadata": {},
   "outputs": [],
   "source": [
    "import sys\n",
    "sys.path.append(r'C:\\Users\\Alex\\git\\Masters-EC-Article\\source')\n",
    "from landsat_to_evi import CalculateEVI"
   ]
  },
  {
   "cell_type": "code",
   "execution_count": 3,
   "id": "240f94a6-1bac-473a-97d4-e9b2cb16c085",
   "metadata": {},
   "outputs": [],
   "source": [
    "import pathlib\n",
    "import xarray as xr\n",
    "import matplotlib.pyplot as plt\n",
    "import rasterio\n",
    "import rioxarray\n",
    "import numpy as np\n",
    "import pandas as pd\n",
    "import seaborn as sns\n",
    "import matplotlib.colors as colors\n",
    "\n",
    "from scipy import stats"
   ]
  },
  {
   "cell_type": "code",
   "execution_count": 4,
   "id": "918f87cd-f427-43ef-ac6d-b838a3f6edd1",
   "metadata": {},
   "outputs": [],
   "source": [
    "iab3_x_utm_sirgas = 203917.07880027\n",
    "iab3_y_utm_sirgas = 7545463.6805863"
   ]
  },
  {
   "cell_type": "code",
   "execution_count": 5,
   "id": "1614f8a7-f7c8-4ca4-9dd6-ccde554a6400",
   "metadata": {},
   "outputs": [
    {
     "name": "stdout",
     "output_type": "stream",
     "text": [
      "Initialized:\n",
      "Reference image: MapbiomasLULC_cerrado\n"
     ]
    }
   ],
   "source": [
    "a = CalculateEVI(tif_reference=r\"G:\\Meu Drive\\USP-Mestrado\\Masters-Data\\Footprint\\MapBiomas\\iab3_site\\IAB1_SIRGAS_23S.tif\",\n",
    "                 meta_reference='MapbiomasLULC_cerrado',\n",
    "                 files_landsat=[r\"G:\\Meu Drive\\USP-Mestrado\\Masters-Data\\EVI_LANDSAT_LE07_C02_T1_L2_SR_2019_2021.nc\",\n",
    "                                r\"G:\\Meu Drive\\USP-Mestrado\\Masters-Data\\EVI_LANDSAT_LC08_C02_T1_L2_SR_2019_2021.nc\"],\n",
    "                 meta_files_landsat=['Landsat7_SR', 'Landsat8_SR'])"
   ]
  },
  {
   "cell_type": "code",
   "execution_count": 6,
   "id": "0496fd74-d95d-4b93-a0fe-980c74cd3ae8",
   "metadata": {},
   "outputs": [
    {
     "name": "stdout",
     "output_type": "stream",
     "text": [
      "G:\\Meu Drive\\USP-Mestrado\\Masters-Data\\EVI_LANDSAT_LE07_C02_T1_L2_SR_2019_2021.nc Landsat7_SR\n",
      "G:\\Meu Drive\\USP-Mestrado\\Masters-Data\\EVI_LANDSAT_LC08_C02_T1_L2_SR_2019_2021.nc Landsat8_SR\n",
      "Files merged\n"
     ]
    }
   ],
   "source": [
    "evi = a.merge_landsat_files()"
   ]
  },
  {
   "cell_type": "code",
   "execution_count": 8,
   "id": "6c192358-0220-4b5e-95ac-a5345241c213",
   "metadata": {},
   "outputs": [
    {
     "data": {
      "image/png": "[encoded data removed]",
      "text/plain": [
       "<Figure size 432x288 with 1 Axes>"
      ]
     },
     "metadata": {
      "needs_background": "light"
     },
     "output_type": "display_data"
    }
   ],
   "source": [
    "evi_daily = a.interpolate_to_daily(target_year=2020)"
   ]
  },
  {
   "cell_type": "code",
   "execution_count": 9,
   "id": "c457417d-8598-42d2-9829-ff4fefcd45b8",
   "metadata": {},
   "outputs": [],
   "source": [
    "footprint_path = r'G:\\Meu Drive\\USP-Mestrado\\Masters-Data\\Footprint\\k15_data_v2'\n",
    "footprint_folder = pathlib.Path(footprint_path)\n",
    "\n",
    "footprint_file_list = []\n",
    "for i in range(1,13,1):\n",
    "    # print(i)\n",
    "    for file in footprint_folder.rglob(f'*2020*_{i}_*n.nc'):\n",
    "        # print(file)\n",
    "        footprint_file_list.append(file)"
   ]
  },
  {
   "cell_type": "code",
   "execution_count": 10,
   "id": "f600e28b-9e0d-4277-a406-e59f3445f269",
   "metadata": {},
   "outputs": [],
   "source": [
    "k15 = xr.open_mfdataset(footprint_file_list)\n",
    "k15 = k15.sel(band=1)\n",
    "k15 = k15.rename({'datetime':'time'})"
   ]
  },
  {
   "cell_type": "code",
   "execution_count": 11,
   "id": "6a964c94-1cd9-47f4-bdc3-19f82a4eebde",
   "metadata": {},
   "outputs": [],
   "source": [
    "#k15_evi_folder = pathlib.Path(r\"C:\\Users\\User\\Desktop\\k15_data_v2\\k15_evi\")\n",
    "k15_evi_folder = pathlib.Path(r'G:\\Meu Drive\\USP-Mestrado\\Masters-Data\\Footprint\\k15_data\\k15_evi')"
   ]
  },
  {
   "cell_type": "code",
   "execution_count": 12,
   "id": "edc3b749-d716-41d2-930a-ce18e3bc9fed",
   "metadata": {},
   "outputs": [
    {
     "name": "stdout",
     "output_type": "stream",
     "text": [
      "1\n",
      "2\n",
      "3\n",
      "4\n",
      "5\n",
      "6\n",
      "7\n",
      "8\n",
      "9\n",
      "10\n",
      "11\n",
      "12\n"
     ]
    }
   ],
   "source": [
    "for m in range(1,13,1):\n",
    "    print(m)\n",
    "    evi_month = evi_daily.sel(time=evi_daily['time'].dt.month==m)\n",
    "    evi_month_30min = evi_month.astype('float32').resample(time='30min').interpolate('linear')\n",
    "\n",
    "    k15_month_30min = k15.sel(time=k15['time'].dt.month==m)\n",
    "    \n",
    "    evi_k15_month_30min = evi_month_30min*k15_month_30min\n",
    "    evi_k15_month_30min = evi_k15_month_30min.rename({'k15_n': 'evi_k15'})\n",
    "\n",
    "    evi_k15_month_30min.to_netcdf(k15_evi_folder/f'k15_evi_month_{m}.nc')"
   ]
  },
  {
   "cell_type": "code",
   "execution_count": null,
   "id": "d9b73cc9-d1e0-434c-9f3e-9af1902aff97",
   "metadata": {},
   "outputs": [],
   "source": []
  }
 ],
 "metadata": {
  "kernelspec": {
   "display_name": "Masters",
   "language": "python",
   "name": "masters"
  },
  "language_info": {
   "codemirror_mode": {
    "name": "ipython",
    "version": 3
   },
   "file_extension": ".py",
   "mimetype": "text/x-python",
   "name": "python",
   "nbconvert_exporter": "python",
   "pygments_lexer": "ipython3",
   "version": "3.9.12"
  }
 },
 "nbformat": 4,
 "nbformat_minor": 5
}
