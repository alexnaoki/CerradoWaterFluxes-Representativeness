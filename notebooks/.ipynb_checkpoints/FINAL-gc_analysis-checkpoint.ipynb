{
 "cells": [
  {
   "cell_type": "code",
   "execution_count": 1,
   "id": "13083500-dded-48eb-83bd-852e14443050",
   "metadata": {},
   "outputs": [],
   "source": [
    "%load_ext autoreload\n",
    "%autoreload 2"
   ]
  },
  {
   "cell_type": "markdown",
   "id": "ac09afe3-28c5-4b3f-8476-4367064ae720",
   "metadata": {},
   "source": [
    "# 0. Libraries\n",
    "\n",
    "------------------"
   ]
  },
  {
   "cell_type": "code",
   "execution_count": 2,
   "id": "298b5262-d857-4a29-a6c9-6379f0abf077",
   "metadata": {},
   "outputs": [],
   "source": [
    "import sys\n",
    "sys.path.append(r'C:\\Users\\Alex\\git\\EC-LHC\\footprint\\FFP_python_v1_4')\n",
    "sys.path.append(r'C:\\Users\\Alex\\git\\Masters-EC-Article\\source')\n",
    "from calc_footprint_FFP_adjusted01 import FFP\n",
    "from k15_to_raster import K15_to_raster\n",
    "from initialize_analysis import InitializeAnalysis"
   ]
  },
  {
   "cell_type": "code",
   "execution_count": 3,
   "id": "ffc122ba-3450-4774-8d5c-b62e9ed4ff6e",
   "metadata": {},
   "outputs": [],
   "source": [
    "import pandas as pd\n",
    "import numpy as np\n",
    "import matplotlib.pyplot as plt\n",
    "import pathlib\n",
    "import seaborn as sns\n",
    "import scipy as sp\n",
    "import datetime as dt\n",
    "import scipy\n",
    "import matplotlib.patches as mpatches\n",
    "import matplotlib.lines as mlines"
   ]
  },
  {
   "cell_type": "code",
   "execution_count": 4,
   "id": "97be5df8-c02e-4d7c-8c2c-e6be3dc6feac",
   "metadata": {},
   "outputs": [],
   "source": [
    "import pathlib\n",
    "from functools import reduce\n"
   ]
  },
  {
   "cell_type": "code",
   "execution_count": 5,
   "id": "73f151bf-0a42-48fe-ac1c-a0667d1892a9",
   "metadata": {},
   "outputs": [],
   "source": [
    "from sklearn.ensemble import RandomForestRegressor\n",
    "from sklearn.ensemble import RandomForestClassifier\n",
    "from sklearn.preprocessing import StandardScaler\n",
    "from sklearn.decomposition import PCA\n",
    "from sklearn.inspection import permutation_importance\n",
    "from sklearn.feature_selection import mutual_info_regression"
   ]
  },
  {
   "cell_type": "code",
   "execution_count": null,
   "id": "6cc8b7e6-0f82-43c7-a86d-250763ea9a0d",
   "metadata": {},
   "outputs": [],
   "source": []
  },
  {
   "cell_type": "code",
   "execution_count": 6,
   "id": "efaf51a9-286e-4ab4-a114-f9e921bdc7a2",
   "metadata": {},
   "outputs": [],
   "source": [
    "final_imgFolder = pathlib.Path(r\"G:\\Meu Drive\\USP-Mestrado\\Masters-Data\\Imgs\\Final\")"
   ]
  },
  {
   "cell_type": "markdown",
   "id": "07f19e68-9a97-4688-80a5-5dc761936d10",
   "metadata": {},
   "source": [
    "# 1. Reading files\n",
    "\n",
    "------------------"
   ]
  },
  {
   "cell_type": "code",
   "execution_count": 7,
   "id": "37cf15c6-d176-45e3-84b5-cadc88bd3e09",
   "metadata": {},
   "outputs": [
    {
     "name": "stdout",
     "output_type": "stream",
     "text": [
      "Reading IAB3_EP files...\n",
      "# IAB3_EP: 5\tInicio: 2018-10-05 00:30:00\tFim: 2021-01-08 00:00:00\n",
      "Reading IAB3_LF files...\n",
      "# IAB3_LF: 41\tInicio:2018-09-07 19:30:00\tFim: 2021-01-08 09:30:00\n",
      "Reading IAB2 files...\n",
      "# IAB2: 38\tInicio: 2017-02-03 09:20:00\tFim: 2021-01-22 11:30:00\n",
      "Reading IAB1 files...\n",
      "# IAB1: 12\tInicio: 2015-07-17 15:00:00\tFim: 2021-01-22 10:50:00\n",
      "Reading Footprint file...\n",
      "Inicio: 2018-10-05 00:30:00\tFim: 2021-01-08 00:00:00\n",
      "Reading K15 files...\n",
      "# K15: 24\tInicio: 2018-10-05 00:30:00\tFim: 2021-01-08 00:00:00\n",
      "Duplicatas:  0\n",
      "Verificacao de Duplicatas:  0\n",
      "Duplicatas:  1\n",
      "Verificacao de Duplicatas:  0\n",
      "Duplicatas:  840479\n",
      "Verificacao de Duplicatas:  0\n",
      "Duplicatas:  507541\n",
      "Verificacao de Duplicatas:  0\n"
     ]
    }
   ],
   "source": [
    "a = InitializeAnalysis(\n",
    "    ep_path=r\"G:\\Meu Drive\\USP-Mestrado\\Masters-Data\\EddyPro\\2-Final-Fase01020304\\EddyPro_Fase01020304\",\n",
    "    lf_path=r\"G:\\Meu Drive\\USP-Mestrado\\Masters-Data\\Dados_Brutos\\IAB3\",\n",
    "    iab1_path=r\"G:\\Meu Drive\\USP-Mestrado\\Masters-Data\\Dados_Brutos\\IAB1\",\n",
    "    iab2_path=r\"G:\\Meu Drive\\USP-Mestrado\\Masters-Data\\Dados_Brutos\\IAB2\\IAB2\",\n",
    "    footprint_file=r\"G:\\Meu Drive\\USP-Mestrado\\Masters-Data\\Footprint\\classification_pixel_2018-10-05-00-30to2021-01-08-00-00_pf_80.csv\",\n",
    "    k15_path=r\"G:\\Meu Drive\\USP-Mestrado\\Masters-Data\\Footprint\\k15_process_data_v2\",\n",
    "    # lai_file_path=r\"G:\\Meu Drive\\USP-Mestrado\\Masters-Data\\LAI\\process_data\\lai_reduced_k15_2020.csv\",\n",
    "    # # evi_file_path=r\"G:\\Meu Drive\\USP-Mestrado\\Masters-Data\\EVI\\processed_data\\evi_reduced_k15_2020.csv\"\n",
    "    # # evi_file_path=r\"G:\\Meu Drive\\USP-Mestrado\\Masters-Data\\EVI\\processed_data\\toa\\evi_reduced_k15_2020.csv\"\n",
    "    # # evi_file_path=r\"G:\\Meu Drive\\USP-Mestrado\\Masters-Data\\EVI\\processed_data\\sr\\evi_reduced_k15_2020.csv\"\n",
    "    # evi_file_path=r\"G:\\Meu Drive\\USP-Mestrado\\Masters-Data\\EVI\\processed_data\\sr\\evi_reduced_mean_2020.csv\"\n",
    "\n",
    "\n",
    ")"
   ]
  },
  {
   "cell_type": "code",
   "execution_count": null,
   "id": "3c7d9237-2c2e-4e79-b7be-9af05ca2059e",
   "metadata": {},
   "outputs": [],
   "source": []
  },
  {
   "cell_type": "code",
   "execution_count": null,
   "id": "9c2320e4-31ce-44c5-bee0-5c73cda7f475",
   "metadata": {},
   "outputs": [],
   "source": []
  },
  {
   "cell_type": "code",
   "execution_count": 8,
   "id": "6658034f-e47c-4852-8e3f-d1c38662801d",
   "metadata": {},
   "outputs": [
    {
     "name": "stdout",
     "output_type": "stream",
     "text": [
      "G:\\Meu Drive\\USP-Mestrado\\Masters-Data\\EVI\\processed_data\\sr\\V2\\k15_evi\\k15_evi_sum.csv\n",
      "G:\\Meu Drive\\USP-Mestrado\\Masters-Data\\EVI\\processed_data\\sr\\V2\\k15_evi\\k15_evi_acc_n.csv\n",
      "G:\\Meu Drive\\USP-Mestrado\\Masters-Data\\EVI\\processed_data\\sr\\V2\\k15_evi\\k15_evi_rej_n.csv\n",
      "G:\\Meu Drive\\USP-Mestrado\\Masters-Data\\EVI\\processed_data\\sr\\V2\\k15_evi\\evi_radius_median.csv\n",
      "G:\\Meu Drive\\USP-Mestrado\\Masters-Data\\EVI\\processed_data\\sr\\V2\\k15_evi\\evi_radius_mean.csv\n"
     ]
    },
    {
     "name": "stderr",
     "output_type": "stream",
     "text": [
      "C:\\Users\\Alex\\AppData\\Local\\Temp\\ipykernel_13296\\2325117739.py:6: FutureWarning: Passing 'suffixes' which cause duplicate columns {'Unnamed: 0_x'} in the result is deprecated and will raise a MergeError in a future version.\n",
      "  evi_df = reduce(lambda left, right: pd.merge(left, right, on=['time']), evi_dfs)\n"
     ]
    }
   ],
   "source": [
    "k15_evi_path = pathlib.Path(r'G:\\Meu Drive\\USP-Mestrado\\Masters-Data\\EVI\\processed_data\\sr\\V2\\k15_evi')\n",
    "evi_dfs = []\n",
    "for i in k15_evi_path.rglob('*.csv'):\n",
    "    print(i)\n",
    "    evi_dfs.append(pd.read_csv(i))\n",
    "evi_df = reduce(lambda left, right: pd.merge(left, right, on=['time']), evi_dfs)\n",
    "\n",
    "column_evi = ['time','k15_evi','k15_evi_acc_n','k15_evi_rej_n','evi_radius_median','evi_radius_mean']\n",
    "evi_df = evi_df[column_evi]\n",
    "evi_df.rename(columns={'time':'TIMESTAMP'}, inplace=True)\n",
    "evi_df['TIMESTAMP'] = pd.to_datetime(evi_df['TIMESTAMP'])"
   ]
  },
  {
   "cell_type": "code",
   "execution_count": null,
   "id": "a872a552-ce19-4ff4-8970-15256df34c81",
   "metadata": {},
   "outputs": [],
   "source": []
  },
  {
   "cell_type": "code",
   "execution_count": 9,
   "id": "0fe6114b-6733-4c4d-bd04-1c7f5a2000d9",
   "metadata": {},
   "outputs": [],
   "source": [
    "df = a.select_datetime(year=2020, begin_hour=7, end_hour=17)"
   ]
  },
  {
   "cell_type": "code",
   "execution_count": 10,
   "id": "32e7c3f5-1ef3-421a-902f-6ea2d3102bf5",
   "metadata": {},
   "outputs": [
    {
     "data": {
      "text/plain": [
       "Index(['index_x', 'TIMESTAMP', 'date', 'time', 'H', 'qc_H', 'LE', 'qc_LE',\n",
       "       'co2_flux', 'H_strg', 'LE_strg', 'sonic_temperature', 'air_temperature',\n",
       "       'air_pressure', 'air_density', 'ET', 'e', 'es', 'RH', 'VPD', 'Tdew',\n",
       "       'u_unrot', 'v_unrot', 'w_unrot', 'u_rot', 'v_rot', 'w_rot',\n",
       "       'wind_speed', 'max_wind_speed', 'wind_dir', 'u*', '(z-d)/L', 'un_H',\n",
       "       'H_scf', 'un_LE', 'LE_scf', 'u_var', 'v_var', 'w_var', 'ts_var',\n",
       "       'index_y', 'CO2_sig_strgth_mean', 'H2O_sig_strgth_mean', 'Rn_Avg',\n",
       "       'Rs_incoming_Avg', 'Rs_outgoing_Avg', 'Rl_incoming_Avg',\n",
       "       'Rl_outgoing_Avg', 'Rl_incoming_meas_Avg', 'Rl_outgoing_meas_Avg',\n",
       "       'shf_Avg(1)', 'shf_Avg(2)', 'precip_Tot', 'code03', 'code04', 'code09',\n",
       "       'code12', 'code15', 'code19', 'code20', 'code24', 'code25', 'code33',\n",
       "       'Unnamed: 0', 'datetime', 'k15_n', 'k15_filter_n', 'flag_qaqc',\n",
       "       'flag_rain', 'flag_signalStr', 'footprint_acceptance', 'flag_footprint',\n",
       "       'flag_k15', 'flag_basic', 'flag_full', 'Hour', 'Day', 'Month', 'Season',\n",
       "       'Weather', 'psychrometric_kPa', 'delta', 'VPD_kPa', 'LE_MJmh',\n",
       "       'Rn_Avg_MJmh', 'shf_Avg_MJmh', 'ga', 'gc', 'ratio_gagc', 'ratio_gcga',\n",
       "       'ratio_deltapsy', 'Omega', 'Omega-1', 'Omega_max', 'Omega_min',\n",
       "       'Omega_med', 'wind_dir_sonic', 'wind_dir_compass'],\n",
       "      dtype='object')"
      ]
     },
     "execution_count": 10,
     "metadata": {},
     "output_type": "execute_result"
    }
   ],
   "source": [
    "df.columns"
   ]
  },
  {
   "cell_type": "code",
   "execution_count": 11,
   "id": "fa731149-a3d5-478b-9774-51d4590136db",
   "metadata": {},
   "outputs": [],
   "source": [
    "df_2 = a.iab2_df_resample"
   ]
  },
  {
   "cell_type": "code",
   "execution_count": 12,
   "id": "02e7542b-2700-4026-8551-acc2b612fc79",
   "metadata": {},
   "outputs": [
    {
     "data": {
      "text/plain": [
       "Index(['TIMESTAMP', 'index', 'RECORD', 'PTemp_C_Avg', 'WS_ms_Avg', 'WindDir',\n",
       "       'G_Wm2_Avg', 'AirTC_Avg', 'RH', 'AirTC_2_Avg', 'RH_2', 'NR_Wm2_Avg',\n",
       "       'CNR_Wm2_Avg', 'Rain_mm_Tot', 'Cerrado_SF(1)', 'Cerrado_SF(2)',\n",
       "       'Cerrado_SF(3)', 'Cerrado_SF(4)', 'Cerrado_SF(5)', 'Cerrado_WC(1)',\n",
       "       'Cerrado_WC(2)', 'Cerrado_WC(3)', 'Cerrado_WC(4)', 'Cerrado_WC(5)',\n",
       "       'BattV_Avg', 'Temp_C_Avg(1)', 'Temp_C_Avg(2)', 'Temp_C_Avg(3)',\n",
       "       'Temp_C_Avg(4)', 'BattV_Min', 'Rain_mm_TOT_torre', 'Rain_mm_2_PI_Tot',\n",
       "       'Rain_mm_3_LID_Tot', 'FullBR_LID1_Avg', 'FullBR_LID1',\n",
       "       'FullBR_LID1_Std', 'Rain_mm_4_PI_Tot', 'Rain_mm_5_LID_Tot',\n",
       "       'FullBR_LID2_Avg', 'FullBR_LID2', 'FullBR_LID2_Std', 'Rain_mm_6_EF_Tot',\n",
       "       'Rain_mm_7_EF_Tot', 'Rain_mm_8_EF_Tot', 'Termopar_C'],\n",
       "      dtype='object')"
      ]
     },
     "execution_count": 12,
     "metadata": {},
     "output_type": "execute_result"
    }
   ],
   "source": [
    "df_2.columns"
   ]
  },
  {
   "cell_type": "code",
   "execution_count": 13,
   "id": "eb62d083-0726-45f2-93ab-b65d7f8933d4",
   "metadata": {},
   "outputs": [
    {
     "data": {
      "text/html": [
       "<div>\n",
       "<style scoped>\n",
       "    .dataframe tbody tr th:only-of-type {\n",
       "        vertical-align: middle;\n",
       "    }\n",
       "\n",
       "    .dataframe tbody tr th {\n",
       "        vertical-align: top;\n",
       "    }\n",
       "\n",
       "    .dataframe thead th {\n",
       "        text-align: right;\n",
       "    }\n",
       "</style>\n",
       "<table border=\"1\" class=\"dataframe\">\n",
       "  <thead>\n",
       "    <tr style=\"text-align: right;\">\n",
       "      <th></th>\n",
       "      <th>Cerrado_WC(1)</th>\n",
       "      <th>Cerrado_WC(2)</th>\n",
       "      <th>Cerrado_WC(3)</th>\n",
       "      <th>Cerrado_WC(4)</th>\n",
       "      <th>Cerrado_WC(5)</th>\n",
       "    </tr>\n",
       "  </thead>\n",
       "  <tbody>\n",
       "    <tr>\n",
       "      <th>count</th>\n",
       "      <td>5319.000000</td>\n",
       "      <td>16483.000000</td>\n",
       "      <td>16483.000000</td>\n",
       "      <td>16483.000000</td>\n",
       "      <td>16483.000000</td>\n",
       "    </tr>\n",
       "    <tr>\n",
       "      <th>mean</th>\n",
       "      <td>12.202708</td>\n",
       "      <td>11.746648</td>\n",
       "      <td>8.988998</td>\n",
       "      <td>8.910687</td>\n",
       "      <td>9.580559</td>\n",
       "    </tr>\n",
       "    <tr>\n",
       "      <th>std</th>\n",
       "      <td>5.413039</td>\n",
       "      <td>4.605882</td>\n",
       "      <td>3.498538</td>\n",
       "      <td>2.851619</td>\n",
       "      <td>2.841548</td>\n",
       "    </tr>\n",
       "    <tr>\n",
       "      <th>min</th>\n",
       "      <td>6.290667</td>\n",
       "      <td>6.372667</td>\n",
       "      <td>6.251000</td>\n",
       "      <td>6.613000</td>\n",
       "      <td>7.080000</td>\n",
       "    </tr>\n",
       "    <tr>\n",
       "      <th>25%</th>\n",
       "      <td>7.412167</td>\n",
       "      <td>7.467000</td>\n",
       "      <td>6.429000</td>\n",
       "      <td>6.769000</td>\n",
       "      <td>7.240500</td>\n",
       "    </tr>\n",
       "    <tr>\n",
       "      <th>50%</th>\n",
       "      <td>9.783333</td>\n",
       "      <td>10.670000</td>\n",
       "      <td>7.165000</td>\n",
       "      <td>7.516000</td>\n",
       "      <td>8.410000</td>\n",
       "    </tr>\n",
       "    <tr>\n",
       "      <th>75%</th>\n",
       "      <td>17.038333</td>\n",
       "      <td>14.340000</td>\n",
       "      <td>11.280000</td>\n",
       "      <td>10.980000</td>\n",
       "      <td>11.950000</td>\n",
       "    </tr>\n",
       "    <tr>\n",
       "      <th>max</th>\n",
       "      <td>28.813333</td>\n",
       "      <td>29.076667</td>\n",
       "      <td>23.440000</td>\n",
       "      <td>20.336667</td>\n",
       "      <td>19.346667</td>\n",
       "    </tr>\n",
       "  </tbody>\n",
       "</table>\n",
       "</div>"
      ],
      "text/plain": [
       "       Cerrado_WC(1)  Cerrado_WC(2)  Cerrado_WC(3)  Cerrado_WC(4)  \\\n",
       "count    5319.000000   16483.000000   16483.000000   16483.000000   \n",
       "mean       12.202708      11.746648       8.988998       8.910687   \n",
       "std         5.413039       4.605882       3.498538       2.851619   \n",
       "min         6.290667       6.372667       6.251000       6.613000   \n",
       "25%         7.412167       7.467000       6.429000       6.769000   \n",
       "50%         9.783333      10.670000       7.165000       7.516000   \n",
       "75%        17.038333      14.340000      11.280000      10.980000   \n",
       "max        28.813333      29.076667      23.440000      20.336667   \n",
       "\n",
       "       Cerrado_WC(5)  \n",
       "count   16483.000000  \n",
       "mean        9.580559  \n",
       "std         2.841548  \n",
       "min         7.080000  \n",
       "25%         7.240500  \n",
       "50%         8.410000  \n",
       "75%        11.950000  \n",
       "max        19.346667  "
      ]
     },
     "execution_count": 13,
     "metadata": {},
     "output_type": "execute_result"
    }
   ],
   "source": [
    "v = ['Cerrado_WC(1)','Cerrado_WC(2)', 'Cerrado_WC(3)', 'Cerrado_WC(4)', 'Cerrado_WC(5)']\n",
    "df_2.loc[df_2['TIMESTAMP'].dt.year==2020, v].describe()"
   ]
  },
  {
   "cell_type": "code",
   "execution_count": 14,
   "id": "b2a7e5d4-f5c4-4550-ada1-83a21732b634",
   "metadata": {},
   "outputs": [],
   "source": [
    "df_2_2020 = df_2.loc[df_2['TIMESTAMP'].dt.year==2020, v+['TIMESTAMP']]"
   ]
  },
  {
   "cell_type": "code",
   "execution_count": 15,
   "id": "5d2f5e7d-56ea-46b3-ad61-58c69f64807c",
   "metadata": {},
   "outputs": [
    {
     "data": {
      "text/plain": [
       "<AxesSubplot:>"
      ]
     },
     "execution_count": 15,
     "metadata": {},
     "output_type": "execute_result"
    },
    {
     "data": {
      "image/png": "[encoded data removed]",
      "text/plain": [
       "<Figure size 432x288 with 1 Axes>"
      ]
     },
     "metadata": {
      "needs_background": "light"
     },
     "output_type": "display_data"
    }
   ],
   "source": [
    "df_2_2020[v].plot()"
   ]
  },
  {
   "cell_type": "code",
   "execution_count": 16,
   "id": "5120a471-8aff-4baa-ad0b-d55e0f778227",
   "metadata": {},
   "outputs": [],
   "source": [
    "df = pd.merge(df, df_2_2020, on='TIMESTAMP', how='outer')"
   ]
  },
  {
   "cell_type": "code",
   "execution_count": 17,
   "id": "32920c2b-3ab0-4611-97b6-39fdf66fd6e7",
   "metadata": {},
   "outputs": [
    {
     "data": {
      "text/html": [
       "<div>\n",
       "<style scoped>\n",
       "    .dataframe tbody tr th:only-of-type {\n",
       "        vertical-align: middle;\n",
       "    }\n",
       "\n",
       "    .dataframe tbody tr th {\n",
       "        vertical-align: top;\n",
       "    }\n",
       "\n",
       "    .dataframe thead th {\n",
       "        text-align: right;\n",
       "    }\n",
       "</style>\n",
       "<table border=\"1\" class=\"dataframe\">\n",
       "  <thead>\n",
       "    <tr style=\"text-align: right;\">\n",
       "      <th></th>\n",
       "      <th>TIMESTAMP</th>\n",
       "      <th>wind_dir</th>\n",
       "      <th>wind_dir_compass</th>\n",
       "    </tr>\n",
       "  </thead>\n",
       "  <tbody>\n",
       "    <tr>\n",
       "      <th>0</th>\n",
       "      <td>2020-01-01 07:00:00</td>\n",
       "      <td>256.551</td>\n",
       "      <td>31.651</td>\n",
       "    </tr>\n",
       "    <tr>\n",
       "      <th>1</th>\n",
       "      <td>2020-01-01 07:30:00</td>\n",
       "      <td>252.850</td>\n",
       "      <td>27.950</td>\n",
       "    </tr>\n",
       "    <tr>\n",
       "      <th>2</th>\n",
       "      <td>2020-01-01 08:00:00</td>\n",
       "      <td>232.333</td>\n",
       "      <td>7.433</td>\n",
       "    </tr>\n",
       "    <tr>\n",
       "      <th>3</th>\n",
       "      <td>2020-01-01 08:30:00</td>\n",
       "      <td>217.488</td>\n",
       "      <td>352.588</td>\n",
       "    </tr>\n",
       "    <tr>\n",
       "      <th>4</th>\n",
       "      <td>2020-01-01 09:00:00</td>\n",
       "      <td>206.447</td>\n",
       "      <td>341.547</td>\n",
       "    </tr>\n",
       "    <tr>\n",
       "      <th>...</th>\n",
       "      <td>...</td>\n",
       "      <td>...</td>\n",
       "      <td>...</td>\n",
       "    </tr>\n",
       "    <tr>\n",
       "      <th>17563</th>\n",
       "      <td>2020-12-31 21:30:00</td>\n",
       "      <td>NaN</td>\n",
       "      <td>NaN</td>\n",
       "    </tr>\n",
       "    <tr>\n",
       "      <th>17564</th>\n",
       "      <td>2020-12-31 22:00:00</td>\n",
       "      <td>NaN</td>\n",
       "      <td>NaN</td>\n",
       "    </tr>\n",
       "    <tr>\n",
       "      <th>17565</th>\n",
       "      <td>2020-12-31 22:30:00</td>\n",
       "      <td>NaN</td>\n",
       "      <td>NaN</td>\n",
       "    </tr>\n",
       "    <tr>\n",
       "      <th>17566</th>\n",
       "      <td>2020-12-31 23:00:00</td>\n",
       "      <td>NaN</td>\n",
       "      <td>NaN</td>\n",
       "    </tr>\n",
       "    <tr>\n",
       "      <th>17567</th>\n",
       "      <td>2020-12-31 23:30:00</td>\n",
       "      <td>NaN</td>\n",
       "      <td>NaN</td>\n",
       "    </tr>\n",
       "  </tbody>\n",
       "</table>\n",
       "<p>17568 rows × 3 columns</p>\n",
       "</div>"
      ],
      "text/plain": [
       "                TIMESTAMP  wind_dir  wind_dir_compass\n",
       "0     2020-01-01 07:00:00   256.551            31.651\n",
       "1     2020-01-01 07:30:00   252.850            27.950\n",
       "2     2020-01-01 08:00:00   232.333             7.433\n",
       "3     2020-01-01 08:30:00   217.488           352.588\n",
       "4     2020-01-01 09:00:00   206.447           341.547\n",
       "...                   ...       ...               ...\n",
       "17563 2020-12-31 21:30:00       NaN               NaN\n",
       "17564 2020-12-31 22:00:00       NaN               NaN\n",
       "17565 2020-12-31 22:30:00       NaN               NaN\n",
       "17566 2020-12-31 23:00:00       NaN               NaN\n",
       "17567 2020-12-31 23:30:00       NaN               NaN\n",
       "\n",
       "[17568 rows x 3 columns]"
      ]
     },
     "execution_count": 17,
     "metadata": {},
     "output_type": "execute_result"
    }
   ],
   "source": [
    "df[['TIMESTAMP','wind_dir','wind_dir_compass']]"
   ]
  },
  {
   "cell_type": "code",
   "execution_count": null,
   "id": "d65f9a65-c25e-4f68-b593-fe9ea3a734aa",
   "metadata": {},
   "outputs": [],
   "source": []
  },
  {
   "cell_type": "code",
   "execution_count": null,
   "id": "07332cd0-b031-40e4-bdb9-8d066f7edce0",
   "metadata": {},
   "outputs": [],
   "source": []
  },
  {
   "cell_type": "code",
   "execution_count": 18,
   "id": "6cea6bc7-b20a-4b2c-b9e9-ad95617d165c",
   "metadata": {},
   "outputs": [],
   "source": [
    "df['air_temperature'] = df['air_temperature']-273.15"
   ]
  },
  {
   "cell_type": "code",
   "execution_count": 19,
   "id": "838402e9-15cd-4a31-a7f2-09ce47f2583c",
   "metadata": {},
   "outputs": [],
   "source": [
    "df = pd.merge(df, evi_df, on='TIMESTAMP', how='inner')"
   ]
  },
  {
   "cell_type": "code",
   "execution_count": 20,
   "id": "8ffc3202-a0bb-49ad-b9a7-563f0a0eaf8b",
   "metadata": {},
   "outputs": [],
   "source": [
    "df.loc[df['TIMESTAMP'].dt.month.isin([1,2,12]), 'Season'] = 'Summer'\n",
    "df.loc[df['TIMESTAMP'].dt.month.isin([3,4,5]), 'Season'] = 'Autumn'\n",
    "df.loc[df['TIMESTAMP'].dt.month.isin([6,7,8]), 'Season'] = 'Winter'\n",
    "df.loc[df['TIMESTAMP'].dt.month.isin([9,10,11]), 'Season'] = 'Spring'"
   ]
  },
  {
   "cell_type": "code",
   "execution_count": 21,
   "id": "612f616e-6801-4983-baf8-0c01142d17e8",
   "metadata": {},
   "outputs": [],
   "source": [
    "df = df.loc[df['flag_basic']==True]\n",
    "df2 = df.loc[df['flag_full']==True]\n",
    "df_r = df.loc[(df['flag_basic']==True)&\n",
    "              (df['flag_full']==False)]"
   ]
  },
  {
   "cell_type": "code",
   "execution_count": 22,
   "id": "d0bda4f1-999b-4757-8129-c331bd5fdc2c",
   "metadata": {},
   "outputs": [
    {
     "name": "stderr",
     "output_type": "stream",
     "text": [
      "C:\\Users\\Alex\\anaconda3\\envs\\Masters\\lib\\site-packages\\seaborn\\axisgrid.py:88: UserWarning: Tight layout not applied. tight_layout cannot make axes height small enough to accommodate all axes decorations.\n",
      "  self._figure.tight_layout(*args, **kwargs)\n",
      "C:\\Users\\Alex\\anaconda3\\envs\\Masters\\lib\\site-packages\\seaborn\\axisgrid.py:88: UserWarning: Tight layout not applied. tight_layout cannot make axes height small enough to accommodate all axes decorations.\n",
      "  self._figure.tight_layout(*args, **kwargs)\n",
      "C:\\Users\\Alex\\anaconda3\\envs\\Masters\\lib\\site-packages\\seaborn\\axisgrid.py:88: UserWarning: Tight layout not applied. tight_layout cannot make axes height small enough to accommodate all axes decorations.\n",
      "  self._figure.tight_layout(*args, **kwargs)\n",
      "C:\\Users\\Alex\\anaconda3\\envs\\Masters\\lib\\site-packages\\seaborn\\axisgrid.py:88: UserWarning: Tight layout not applied. tight_layout cannot make axes height small enough to accommodate all axes decorations.\n",
      "  self._figure.tight_layout(*args, **kwargs)\n"
     ]
    },
    {
     "data": {
      "image/png": "[encoded data removed]",
      "text/plain": [
       "<Figure size 360x144 with 4 Axes>"
      ]
     },
     "metadata": {},
     "output_type": "display_data"
    }
   ],
   "source": [
    "sns.set_theme(style=\"white\", rc={\"axes.facecolor\": (0, 0, 0, 0)})\n",
    "\n",
    "colors = ['#d98088','#e6c095','#9bb7e0','#b9e69c']\n",
    "\n",
    "#summer, autumn, winter, spring\n",
    "# colors = ['#b84f51','#c98806','#6cc9e6','#9fc468']\n",
    "my_palette = sns.color_palette(colors)\n",
    "\n",
    "pal = sns.cubehelix_palette(6, rot=-.25, light=.7)\n",
    "g = sns.FacetGrid(df.loc[df['flag_basic']==True], row=\"Season\", hue=\"Season\", aspect=10, height=0.5, palette=my_palette)\n",
    "\n",
    "g.map(sns.kdeplot, 'gc',\n",
    "      bw_adjust=.5, clip_on=False,\n",
    "      fill=True, alpha=1, linewidth=1.5)\n",
    "\n",
    "g.map(sns.kdeplot, \"gc\", clip_on=False, color=\"w\", lw=2, bw_adjust=.5)\n",
    "\n",
    "g.refline(y=0, linewidth=2, linestyle=\"-\", color=None, clip_on=False)\n",
    "\n",
    "def label(x, color, label):\n",
    "    ax = plt.gca()\n",
    "    ax.text(0.8, .2, label, fontweight=\"bold\", color=color,\n",
    "            ha=\"left\", va=\"center\", transform=ax.transAxes)\n",
    "    \n",
    "g.map(label, \"gc\")\n",
    "\n",
    "g.figure.subplots_adjust(hspace=-.25)\n",
    "\n",
    "g.set_titles(\"\")\n",
    "g.set(yticks=[], ylabel=\"\")\n",
    "g.set_xlabels('$g_c \\; [m \\; s^{-1}]$')\n",
    "g.despine(bottom=True, left=True)\n",
    "# g.set(xlim=(0,0.017))\n",
    "sns.set_theme()\n",
    "\n",
    "# g.savefig(final_imgFolder/'gc-density_allseasons.png', dpi=300)"
   ]
  },
  {
   "cell_type": "code",
   "execution_count": 23,
   "id": "32671040-fff0-44cd-9e32-616db166bc9e",
   "metadata": {},
   "outputs": [
    {
     "data": {
      "text/plain": [
       "Index(['index_x', 'TIMESTAMP', 'date', 'time', 'H', 'qc_H', 'LE', 'qc_LE',\n",
       "       'co2_flux', 'H_strg',\n",
       "       ...\n",
       "       'Cerrado_WC(1)', 'Cerrado_WC(2)', 'Cerrado_WC(3)', 'Cerrado_WC(4)',\n",
       "       'Cerrado_WC(5)', 'k15_evi', 'k15_evi_acc_n', 'k15_evi_rej_n',\n",
       "       'evi_radius_median', 'evi_radius_mean'],\n",
       "      dtype='object', length=108)"
      ]
     },
     "execution_count": 23,
     "metadata": {},
     "output_type": "execute_result"
    }
   ],
   "source": [
    "df.columns"
   ]
  },
  {
   "cell_type": "code",
   "execution_count": 24,
   "id": "2911347d-d826-46f0-879d-3a5d2fd2c1ac",
   "metadata": {},
   "outputs": [
    {
     "data": {
      "image/png": "[encoded data removed]",
      "text/plain": [
       "<Figure size 720x144 with 5 Axes>"
      ]
     },
     "metadata": {},
     "output_type": "display_data"
    },
    {
     "data": {
      "image/png": "[encoded data removed]",
      "text/plain": [
       "<Figure size 720x144 with 5 Axes>"
      ]
     },
     "metadata": {},
     "output_type": "display_data"
    },
    {
     "data": {
      "image/png": "[encoded data removed]",
      "text/plain": [
       "<Figure size 720x144 with 5 Axes>"
      ]
     },
     "metadata": {},
     "output_type": "display_data"
    },
    {
     "data": {
      "image/png": "[encoded data removed]",
      "text/plain": [
       "<Figure size 720x144 with 5 Axes>"
      ]
     },
     "metadata": {},
     "output_type": "display_data"
    }
   ],
   "source": [
    "colors = ['#d98088','#e6c095','#9bb7e0','#b9e69c']\n",
    "variables = ['VPD','u*', 'Rn_Avg','Cerrado_WC(3)','k15_evi']\n",
    "\n",
    "min_var = [df[v].min() for v in variables]\n",
    "max_var = [df[v].max() for v in variables]\n",
    "\n",
    "minmax_var = {}\n",
    "for v, mi, ma in zip(variables, min_var, max_var):\n",
    "    minmax_var[v] = [mi, ma]\n",
    "\n",
    "label_list = [('a','b','c','d', 'e'),\n",
    "              ('f','g','h','i','j'),\n",
    "              ('k','l','m', 'n', 'o'),\n",
    "              ('p','q','r','s','t')]\n",
    "    \n",
    "for i,b in enumerate(zip(df['Season'].unique(), label_list)):\n",
    "    season = b[0]\n",
    "    label_f = b[1]\n",
    "    g = sns.PairGrid(data=df.loc[\n",
    "                                   (df['gc'].notnull())&\n",
    "                                    (df['VPD'].notnull())&\n",
    "                                    (df['u*'].notnull())&\n",
    "                                    (df['Cerrado_WC(3)'].notnull())&\n",
    "                                    (df['Rn_Avg'].notnull())&\n",
    "                                    (df['Season']==season)],\n",
    "                     y_vars=['gc'],\n",
    "                     x_vars=variables,\n",
    "                     aspect=1.0, height=2\n",
    "                    )\n",
    "\n",
    "    def corrfunc(x, y, **kws):\n",
    "    #     print(x,y)\n",
    "        # r, p = scipy.stats.pearsonr(x, y)\n",
    "        slope, intercept, r, p, std_err = scipy.stats.linregress(x, y)\n",
    "    #     print(r)\n",
    "        ax = plt.gca()\n",
    "        if p < 0.01:\n",
    "            ax.annotate(\"$R$ = {:.2f}\\np < 0.01\".format(r),\n",
    "                        xy=(0.05, 0.70), xycoords=ax.transAxes, fontsize=10)\n",
    "        else:\n",
    "            ax.annotate(\"$R$ = {:.2f}\\np = {:.1e}\".format(r,p),\n",
    "                        xy=(0.05, 0.70), xycoords=ax.transAxes, fontsize=10)\n",
    "        ax.set_xlim((minmax_var[x.name][0], minmax_var[x.name][1]))\n",
    "        ax.set_ylim((0, 0.02))\n",
    "        \n",
    "    for ax, letter in zip(g.axes.ravel(),label_f):\n",
    "        ax.annotate(f'({letter})', xy=(0.85,0.85),fontweight='bold',fontsize=10, xycoords=ax.transAxes)\n",
    "\n",
    "        \n",
    "        \n",
    "    g.map_offdiag(sns.regplot, order=1, color=colors[i],\n",
    "                  line_kws={\"color\": \"#73777B\", 'linewidth':'1'}, \n",
    "                  scatter_kws={'alpha':0.05})\n",
    "    g.map_offdiag(corrfunc)\n",
    "    # g.set_xticklabels(size=12)\n",
    "\n",
    "    fontsize = 10\n",
    "    if season == 'Spring':\n",
    "        g.axes[0,0].set_ylabel('$g_c \\; [m \\; s^{-1}]$', fontsize=fontsize)\n",
    "        \n",
    "        g.axes[0,0].set_xlabel('$VPD \\: [Pa]$', fontsize=fontsize)\n",
    "        g.axes[0,1].set_xlabel('$u* \\: [m\\: s^{-1}]$', fontsize=fontsize)\n",
    "        g.axes[0,2].set_xlabel('$R_n \\: [W \\: m^{-2}]$', fontsize=fontsize)\n",
    "        g.axes[0,3].set_xlabel('$WC \\: [m^3/m^3]$', fontsize=fontsize)\n",
    "        g.axes[0,4].set_xlabel('$EVI_{Footprint} \\: [-]$', fontsize=fontsize)\n",
    "        \n",
    "        # g.tight_layout()\n",
    "\n",
    "    else:\n",
    "        g.set(xticklabels=[])\n",
    "        g.axes[0,0].set_ylabel('$g_c \\; [m \\; s^{-1}]$', fontsize=fontsize)\n",
    "        g.axes[0,0].set_xlabel('', fontsize=14)\n",
    "        g.axes[0,1].set_xlabel('', fontsize=14)\n",
    "        g.axes[0,2].set_xlabel('', fontsize=14)\n",
    "        g.axes[0,3].set_xlabel('', fontsize=14)  \n",
    "        g.axes[0,4].set_xlabel('', fontsize=14)  \n",
    "\n",
    "        # g.tight_layout()\n",
    "    # break\n",
    "    # g.savefig(final_imgFolder/'Outros'/f'gc-hourlyVariables-{season}.png', dpi=300)"
   ]
  },
  {
   "cell_type": "code",
   "execution_count": null,
   "id": "3919cff5-ea5a-45bf-a81f-c2c6115a5256",
   "metadata": {},
   "outputs": [],
   "source": []
  },
  {
   "cell_type": "code",
   "execution_count": 25,
   "id": "28ff143b-d9f3-4d41-a652-3ce3c2c42dc5",
   "metadata": {},
   "outputs": [
    {
     "data": {
      "text/plain": [
       "['VPD', 'u*', 'Rn_Avg', 'Cerrado_WC(3)', 'k15_evi']"
      ]
     },
     "execution_count": 25,
     "metadata": {},
     "output_type": "execute_result"
    }
   ],
   "source": [
    "variables"
   ]
  },
  {
   "cell_type": "code",
   "execution_count": 26,
   "id": "9508f610-d9c5-4e4e-a3d5-e1ddfb408d86",
   "metadata": {},
   "outputs": [],
   "source": [
    "variables2 = ['VPD','Cerrado_WC(3)','u*','Rn_Avg','k15_evi']"
   ]
  },
  {
   "cell_type": "code",
   "execution_count": 27,
   "id": "f31fb62f-41fc-44ef-9ccd-92462960909d",
   "metadata": {},
   "outputs": [],
   "source": [
    "rf_variables = variables2 + ['Season','gc']\n",
    "\n",
    "df_rf_h = df2[rf_variables+['TIMESTAMP']].dropna()\n",
    "# mi_variables = variables + ['k15_evi']"
   ]
  },
  {
   "cell_type": "code",
   "execution_count": 28,
   "id": "fddf110d-6440-49ea-8e16-9da72e4569be",
   "metadata": {},
   "outputs": [],
   "source": [
    "df_rf = df[rf_variables].dropna()\n",
    "df_rf2 = df2[rf_variables].dropna()\n",
    "\n",
    "df_rf_r = df_r[rf_variables].dropna()\n",
    "\n",
    "# df_test = df[variables2+['TIMESTAMP','gc']].dropna()\n",
    "# df_test2 = df2[variables2+['TIMESTAMP','gc']].dropna()\n",
    "# df_mi = df[mi_variables+['Season','gc']].dropna()"
   ]
  },
  {
   "cell_type": "code",
   "execution_count": null,
   "id": "6e1871f2-8959-4070-9691-944446b0cf4f",
   "metadata": {},
   "outputs": [],
   "source": []
  },
  {
   "cell_type": "code",
   "execution_count": 29,
   "id": "5f213de2-c2eb-4203-bf65-2cb4482bece8",
   "metadata": {},
   "outputs": [],
   "source": [
    "# df_rf_t = pd.DataFrame(rf_test)\n",
    "# df_rf_t2 = pd.DataFrame(rf_test2)"
   ]
  },
  {
   "cell_type": "code",
   "execution_count": 30,
   "id": "42e8f249-8309-4423-ab46-67c92e364be0",
   "metadata": {},
   "outputs": [],
   "source": [
    "# colors=['#E78AC3','#BCBD22','#00d9ff','#9147FF']\n",
    "\n",
    "# fig, ax = plt.subplots(ncols=2, figsize=(7,2.5), dpi=300, sharey=True)\n",
    "\n",
    "# labels = ['Summer', 'Autumn', 'Winter', 'Spring']\n",
    "# x = np.arange(0,len(labels)*1.5,1.5)\n",
    "# # x = np.linspace()\n",
    "\n",
    "# width=0\n",
    "\n",
    "# for n2,(i, row) in enumerate(df_rf_t.T.iterrows()):\n",
    "#     # print(i)\n",
    "#     v = 0\n",
    "#     for n,j in enumerate(row):\n",
    "#         # print(j)\n",
    "#         b = ax[0].bar(x=i, height=j, bottom=v, color=colors[n])\n",
    "#         ax[0].bar_label(b, label_type='center', fmt='%.0f%%', fontsize='10')\n",
    "#         v += j\n",
    "\n",
    "# for n2,(i, row) in enumerate(df_rf_t2.T.iterrows()):\n",
    "#     # print(i)\n",
    "#     v = 0\n",
    "#     for n,j in enumerate(row):\n",
    "#         # print(j)\n",
    "#         b = ax[1].bar(x=i, height=j, bottom=v, color=colors[n])\n",
    "#         ax[1].bar_label(b, label_type='center', fmt='%.0f%%', fontsize='10')\n",
    "#         v += j\n",
    "\n",
    "# l = ['(a)', '(b)']\n",
    "# for i in range(2):\n",
    "#     ax[i].set_ylim((0,101))\n",
    "#     # ax[i].set_\n",
    "#     # ax[i].set_xticks(x, labels)\n",
    "#     ax[i].annotate(f'{l[i]}', xy=(3, 92), color='white', fontweight='bold')\n",
    "    \n",
    "# handles = [plt.Rectangle((0,0), 1,1, color=i) for i in colors]\n",
    "# labels = ['VPD', 'u*','Rn','$EVI_{footprint}$']\n",
    "\n",
    "# ax[0].legend(handles, labels, frameon=True, ncol=4, bbox_to_anchor=(0.28,1,0.5,.11))\n",
    "# # fig.tight_layout()"
   ]
  },
  {
   "cell_type": "code",
   "execution_count": 31,
   "id": "e5953196-9837-41c7-993f-9ece9ffef20d",
   "metadata": {},
   "outputs": [
    {
     "name": "stdout",
     "output_type": "stream",
     "text": [
      "Summer\n",
      "u*        0.393536\n",
      "VPD    1222.760000\n",
      "dtype: float64\n",
      "Autumn\n",
      "u*        0.408839\n",
      "VPD    1577.630000\n",
      "dtype: float64\n",
      "Winter\n",
      "u*        0.43461\n",
      "VPD    1761.48000\n",
      "dtype: float64\n",
      "Spring\n",
      "u*        0.463334\n",
      "VPD    2300.515000\n",
      "dtype: float64\n"
     ]
    }
   ],
   "source": [
    "for s in df_rf['Season'].unique():\n",
    "    print(s)\n",
    "    print(df_rf.loc[df_rf['Season']==s, ['u*','VPD']].median())"
   ]
  },
  {
   "cell_type": "code",
   "execution_count": 32,
   "id": "9b9e3ca4-9c83-448b-bc4c-fd40b8cc00f7",
   "metadata": {},
   "outputs": [
    {
     "name": "stdout",
     "output_type": "stream",
     "text": [
      "Sem footprint filter\n",
      "VPD:\t: 0.26,\t 0.01\n",
      "Cerrado_WC(3):\t: 0.32,\t 0.00\n",
      "u*:\t: 0.11,\t 0.01\n",
      "Rn_Avg:\t: 0.18,\t 0.01\n",
      "k15_evi:\t: 0.13,\t 0.01\n",
      "Com footprint filter\n",
      "VPD:\t: 0.23,\t 0.01\n",
      "Cerrado_WC(3):\t: 0.35,\t 0.02\n",
      "u*:\t: 0.11,\t 0.01\n",
      "Rn_Avg:\t: 0.21,\t 0.02\n",
      "k15_evi:\t: 0.09,\t 0.01\n"
     ]
    }
   ],
   "source": [
    "\n",
    "print('Sem footprint filter')\n",
    "rfr = RandomForestRegressor(random_state=2,max_depth=30)\n",
    "rfr.fit(X=df_rf[variables2], y=df_rf['gc'])\n",
    "\n",
    "result = permutation_importance(rfr, df_rf[rf_variables[:-2]], df_rf['gc'], n_repeats=10)\n",
    "\n",
    "\n",
    "for variable, mean, std in zip(df_rf[rf_variables[:-2]].columns, result['importances_mean'], result['importances_std']):\n",
    "    # print(variable,'\\t', mean, std)\n",
    "    total = result['importances_mean'].sum()\n",
    "    print(f'{variable}:\\t: {mean/total:.02f},\\t {std:.02f}')\n",
    "    # rf_results_nok15[s][variable] = mean/total\n",
    "    \n",
    "print('Com footprint filter')\n",
    "rfr = RandomForestRegressor(random_state=2,max_depth=30)\n",
    "rfr.fit(X=df_rf2[variables2], y=df_rf2['gc'])\n",
    "\n",
    "result = permutation_importance(rfr, df_rf2[rf_variables[:-2]], df_rf2['gc'], n_repeats=10)\n",
    "\n",
    "\n",
    "for variable, mean, std in zip(df_rf2[rf_variables[:-2]].columns, result['importances_mean'], result['importances_std']):\n",
    "    # print(variable,'\\t', mean, std)\n",
    "    total = result['importances_mean'].sum()\n",
    "    print(f'{variable}:\\t: {mean/total:.02f},\\t {std:.02f}')\n",
    "    # rf_results_nok15[s][variable] = mean/total"
   ]
  },
  {
   "cell_type": "code",
   "execution_count": null,
   "id": "2af40df5-1a96-4a4d-bb80-58f3f6c59500",
   "metadata": {},
   "outputs": [],
   "source": []
  },
  {
   "cell_type": "code",
   "execution_count": 33,
   "id": "88d38bae-76d6-4d5f-a3f9-87db7ecc278f",
   "metadata": {},
   "outputs": [
    {
     "name": "stdout",
     "output_type": "stream",
     "text": [
      "Summer\n",
      "VPD:\t: 0.20,\t 0.01\n",
      "Cerrado_WC(3):\t: 0.22,\t 0.02\n",
      "u*:\t: 0.18,\t 0.02\n",
      "Rn_Avg:\t: 0.23,\t 0.02\n",
      "k15_evi:\t: 0.17,\t 0.02\n",
      "\n",
      "Autumn\n",
      "VPD:\t: 0.20,\t 0.01\n",
      "Cerrado_WC(3):\t: 0.11,\t 0.01\n",
      "u*:\t: 0.21,\t 0.02\n",
      "Rn_Avg:\t: 0.22,\t 0.01\n",
      "k15_evi:\t: 0.27,\t 0.03\n",
      "\n",
      "Winter\n",
      "VPD:\t: 0.44,\t 0.05\n",
      "Cerrado_WC(3):\t: 0.08,\t 0.02\n",
      "u*:\t: 0.07,\t 0.01\n",
      "Rn_Avg:\t: 0.33,\t 0.05\n",
      "k15_evi:\t: 0.08,\t 0.01\n",
      "\n",
      "Spring\n",
      "VPD:\t: 0.45,\t 0.04\n",
      "Cerrado_WC(3):\t: 0.03,\t 0.01\n",
      "u*:\t: 0.09,\t 0.01\n",
      "Rn_Avg:\t: 0.17,\t 0.02\n",
      "k15_evi:\t: 0.27,\t 0.02\n",
      "\n"
     ]
    }
   ],
   "source": [
    "rf_results_nok15 = {}\n",
    "\n",
    "for s in df['Season'].unique():\n",
    "    print(s)\n",
    "    df_season = df_rf.loc[df_rf['Season']==s]\n",
    "    \n",
    "    rfr = RandomForestRegressor(random_state=2,max_depth=30)\n",
    "    rfr.fit(X=df_season[variables2], y=df_season['gc'])\n",
    "    \n",
    "    result = permutation_importance(rfr, df_season[rf_variables[:-2]], df_season['gc'], n_repeats=10)\n",
    "    rf_results_nok15[s] = {}\n",
    "\n",
    "    \n",
    "    for variable, mean, std in zip(df_season[rf_variables[:-2]].columns, result['importances_mean'], result['importances_std']):\n",
    "        # print(variable,'\\t', mean, std)\n",
    "        total = result['importances_mean'].sum()\n",
    "        print(f'{variable}:\\t: {mean/total:.02f},\\t {std:.02f}')\n",
    "        rf_results_nok15[s][variable] = mean/total\n",
    "\n",
    "    print()\n",
    "    "
   ]
  },
  {
   "cell_type": "code",
   "execution_count": 34,
   "id": "6e0b14a5-9028-4bba-8e9f-aaa52e1d13ed",
   "metadata": {},
   "outputs": [
    {
     "name": "stdout",
     "output_type": "stream",
     "text": [
      "VPD:\t: 0.26,\t 0.02\n",
      "Cerrado_WC(3):\t: 0.32,\t 0.02\n",
      "u*:\t: 0.11,\t 0.01\n",
      "Rn_Avg:\t: 0.18,\t 0.01\n",
      "k15_evi:\t: 0.13,\t 0.00\n"
     ]
    }
   ],
   "source": [
    "rfr = RandomForestRegressor(random_state=2, max_depth=30)\n",
    "rfr.fit(X=df_rf[variables2], y=df_rf['gc'])\n",
    "\n",
    "result = permutation_importance(rfr, df_rf[rf_variables[:-2]], df_rf['gc'], n_repeats=10)\n",
    "rf_results_nok15['All Seasons'] = {}\n",
    "\n",
    "for variable, mean, std in zip(df_rf[rf_variables[:-2]].columns, result['importances_mean'], result['importances_std']):\n",
    "    total = result['importances_mean'].sum()\n",
    "    print(f'{variable}:\\t: {mean/total:.02f},\\t {std:.02f}')\n",
    "    rf_results_nok15['All Seasons'][variable] = mean/total"
   ]
  },
  {
   "cell_type": "code",
   "execution_count": 35,
   "id": "cd890edb-1dd7-4149-97af-03cef93741fd",
   "metadata": {
    "tags": []
   },
   "outputs": [
    {
     "name": "stdout",
     "output_type": "stream",
     "text": [
      "Summer\n",
      "VPD:\t: 0.29,\t 0.01\n",
      "Cerrado_WC(3):\t: 0.15,\t 0.02\n",
      "u*:\t: 0.16,\t 0.01\n",
      "Rn_Avg:\t: 0.31,\t 0.02\n",
      "k15_evi:\t: 0.09,\t 0.01\n",
      "\n",
      "Autumn\n",
      "VPD:\t: 0.22,\t 0.03\n",
      "Cerrado_WC(3):\t: 0.10,\t 0.01\n",
      "u*:\t: 0.22,\t 0.03\n",
      "Rn_Avg:\t: 0.26,\t 0.02\n",
      "k15_evi:\t: 0.19,\t 0.02\n",
      "\n",
      "Winter\n",
      "VPD:\t: 0.37,\t 0.04\n",
      "Cerrado_WC(3):\t: 0.11,\t 0.03\n",
      "u*:\t: 0.08,\t 0.02\n",
      "Rn_Avg:\t: 0.40,\t 0.06\n",
      "k15_evi:\t: 0.03,\t 0.00\n",
      "\n",
      "Spring\n",
      "VPD:\t: 0.42,\t 0.03\n",
      "Cerrado_WC(3):\t: 0.03,\t 0.01\n",
      "u*:\t: 0.08,\t 0.01\n",
      "Rn_Avg:\t: 0.20,\t 0.02\n",
      "k15_evi:\t: 0.27,\t 0.04\n",
      "\n"
     ]
    }
   ],
   "source": [
    "rf_results = {}\n",
    "for s in df['Season'].unique():\n",
    "    print(s)\n",
    "    # rf_results[s] = {}\n",
    "    df_season = df_rf2.loc[df_rf2['Season']==s]\n",
    "    \n",
    "    rfr = RandomForestRegressor(random_state=2,max_depth=30)\n",
    "    rfr.fit(X=df_season[variables2], y=df_season['gc'])\n",
    "    \n",
    "    result = permutation_importance(rfr, df_season[rf_variables[:-2]], df_season['gc'], n_repeats=10)\n",
    "    r = []\n",
    "    rf_results[s] = {}\n",
    "    for variable, mean, std in zip(df_season[rf_variables[:-2]].columns, result['importances_mean'], result['importances_std']):\n",
    "        # print(variable,'\\t', mean, std)\n",
    "        total = result['importances_mean'].sum()\n",
    "        print(f'{variable}:\\t: {mean/total:.02f},\\t {std:.02f}')\n",
    "        # r.append(mean/total)\n",
    "        rf_results[s][variable] = mean/total\n",
    "    print()\n",
    "    "
   ]
  },
  {
   "cell_type": "code",
   "execution_count": 36,
   "id": "362384e5-45f3-4b04-a4be-3fd09628b9bd",
   "metadata": {},
   "outputs": [
    {
     "name": "stdout",
     "output_type": "stream",
     "text": [
      "VPD:\t: 0.24,\t 0.01\n",
      "Cerrado_WC(3):\t: 0.35,\t 0.02\n",
      "u*:\t: 0.11,\t 0.01\n",
      "Rn_Avg:\t: 0.21,\t 0.01\n",
      "k15_evi:\t: 0.09,\t 0.00\n"
     ]
    }
   ],
   "source": [
    "rfr = RandomForestRegressor(random_state=2, max_depth=30)\n",
    "rfr.fit(X=df_rf2[variables2], y=df_rf2['gc'])\n",
    "\n",
    "result = permutation_importance(rfr, df_rf2[rf_variables[:-2]], df_rf2['gc'], n_repeats=10)\n",
    "\n",
    "rf_results['All Seasons'] = {}\n",
    "\n",
    "for variable, mean, std in zip(df_rf2[rf_variables[:-2]].columns, result['importances_mean'], result['importances_std']):\n",
    "    # print(variable,'\\t', mean, std)\n",
    "    total = result['importances_mean'].sum()\n",
    "    print(f'{variable}:\\t: {mean/total:.02f},\\t {std:.02f}')\n",
    "    # r.append(mean/total)\n",
    "    rf_results['All Seasons'][variable] = mean/total"
   ]
  },
  {
   "cell_type": "code",
   "execution_count": 37,
   "id": "f18d40e7-ddf0-4145-9fcf-df3bfdccdadd",
   "metadata": {},
   "outputs": [],
   "source": [
    "df_t = pd.DataFrame(rf_results)\n",
    "df_t2 = pd.DataFrame(rf_results_nok15)"
   ]
  },
  {
   "cell_type": "code",
   "execution_count": 38,
   "id": "043a5b29-86b9-4758-bdaa-b77a13eb6c80",
   "metadata": {},
   "outputs": [],
   "source": [
    "df_diff = (df_t - df_t2)/df_t2"
   ]
  },
  {
   "cell_type": "code",
   "execution_count": 39,
   "id": "ab7f9aad-c1e1-4e52-b1ad-f4d2c582da09",
   "metadata": {},
   "outputs": [
    {
     "name": "stdout",
     "output_type": "stream",
     "text": [
      "Summer\n",
      "VPD:\t: 0.21,\t 0.02\n",
      "Cerrado_WC(3):\t: 0.22,\t 0.02\n",
      "u*:\t: 0.22,\t 0.03\n",
      "Rn_Avg:\t: 0.15,\t 0.01\n",
      "k15_evi:\t: 0.19,\t 0.03\n",
      "\n",
      "Autumn\n",
      "VPD:\t: 0.08,\t 0.01\n",
      "Cerrado_WC(3):\t: 0.07,\t 0.01\n",
      "u*:\t: 0.23,\t 0.03\n",
      "Rn_Avg:\t: 0.16,\t 0.03\n",
      "k15_evi:\t: 0.46,\t 0.04\n",
      "\n",
      "Winter\n",
      "VPD:\t: 0.39,\t 0.04\n",
      "Cerrado_WC(3):\t: 0.08,\t 0.01\n",
      "u*:\t: 0.07,\t 0.01\n",
      "Rn_Avg:\t: 0.32,\t 0.05\n",
      "k15_evi:\t: 0.15,\t 0.02\n",
      "\n",
      "Spring\n",
      "VPD:\t: 0.36,\t 0.04\n",
      "Cerrado_WC(3):\t: 0.01,\t 0.00\n",
      "u*:\t: 0.13,\t 0.02\n",
      "Rn_Avg:\t: 0.08,\t 0.02\n",
      "k15_evi:\t: 0.43,\t 0.06\n",
      "\n"
     ]
    }
   ],
   "source": [
    "for s in df['Season'].unique():\n",
    "    print(s)\n",
    "    df_season = df_rf_r.loc[df_rf_r['Season']==s]\n",
    "    \n",
    "    rfr = RandomForestRegressor(random_state=2,max_depth=30)\n",
    "    rfr.fit(X=df_season[variables2], y=df_season['gc'])\n",
    "    \n",
    "    result = permutation_importance(rfr, df_season[rf_variables[:-2]], df_season['gc'], n_repeats=10)\n",
    "    for variable, mean, std in zip(df_season[rf_variables[:-2]].columns, result['importances_mean'], result['importances_std']):\n",
    "        # print(variable,'\\t', mean, std)\n",
    "        total = result['importances_mean'].sum()\n",
    "        print(f'{variable}:\\t: {mean/total:.02f},\\t {std:.02f}')\n",
    "    print()"
   ]
  },
  {
   "cell_type": "code",
   "execution_count": null,
   "id": "d5948b3a-fa29-4c4b-802f-726aa6277b12",
   "metadata": {},
   "outputs": [],
   "source": []
  },
  {
   "cell_type": "code",
   "execution_count": 40,
   "id": "7c8870dc-deeb-4cce-851b-43cd5f58a3dd",
   "metadata": {},
   "outputs": [
    {
     "name": "stdout",
     "output_type": "stream",
     "text": [
      "Summer\n",
      "VPD:\t: 0.29,\t 0.03\n",
      "Cerrado_WC(3):\t: 0.15,\t 0.01\n",
      "u*:\t: 0.16,\t 0.01\n",
      "Rn_Avg:\t: 0.31,\t 0.03\n",
      "k15_evi:\t: 0.09,\t 0.01\n",
      "\n",
      "Autumn\n",
      "VPD:\t: 0.22,\t 0.03\n",
      "Cerrado_WC(3):\t: 0.10,\t 0.01\n",
      "u*:\t: 0.22,\t 0.02\n",
      "Rn_Avg:\t: 0.26,\t 0.02\n",
      "k15_evi:\t: 0.19,\t 0.02\n",
      "\n",
      "Winter\n",
      "VPD:\t: 0.38,\t 0.05\n",
      "Cerrado_WC(3):\t: 0.10,\t 0.03\n",
      "u*:\t: 0.09,\t 0.01\n",
      "Rn_Avg:\t: 0.40,\t 0.04\n",
      "k15_evi:\t: 0.03,\t 0.00\n",
      "\n",
      "Spring\n",
      "VPD:\t: 0.43,\t 0.03\n",
      "Cerrado_WC(3):\t: 0.03,\t 0.00\n",
      "u*:\t: 0.08,\t 0.01\n",
      "Rn_Avg:\t: 0.20,\t 0.02\n",
      "k15_evi:\t: 0.27,\t 0.02\n",
      "\n"
     ]
    }
   ],
   "source": [
    "for s in df['Season'].unique():\n",
    "    print(s)\n",
    "    df_season = df_rf2.loc[df_rf2['Season']==s]\n",
    "    \n",
    "    rfr = RandomForestRegressor(random_state=2,max_depth=30)\n",
    "    rfr.fit(X=df_season[variables2], y=df_season['gc'])\n",
    "    \n",
    "    result = permutation_importance(rfr, df_season[rf_variables[:-2]], df_season['gc'], n_repeats=10)\n",
    "    for variable, mean, std in zip(df_season[rf_variables[:-2]].columns, result['importances_mean'], result['importances_std']):\n",
    "        # print(variable,'\\t', mean, std)\n",
    "        total = result['importances_mean'].sum()\n",
    "        print(f'{variable}:\\t: {mean/total:.02f},\\t {std:.02f}')\n",
    "    print()"
   ]
  },
  {
   "cell_type": "code",
   "execution_count": 41,
   "id": "0f1deccf-fe7b-40ef-aa7e-4f979f52ff4e",
   "metadata": {},
   "outputs": [
    {
     "data": {
      "text/plain": [
       "{'Summer': {'VPD': 0.28773686422371886,\n",
       "  'Cerrado_WC(3)': 0.1485497170127706,\n",
       "  'u*': 0.15871790151029638,\n",
       "  'Rn_Avg': 0.31059408715962566,\n",
       "  'k15_evi': 0.09440143009358834},\n",
       " 'Autumn': {'VPD': 0.22448118797552258,\n",
       "  'Cerrado_WC(3)': 0.10029957870229567,\n",
       "  'u*': 0.2242730468535428,\n",
       "  'Rn_Avg': 0.263592775648209,\n",
       "  'k15_evi': 0.18735341082042994},\n",
       " 'Winter': {'VPD': 0.3736954472000191,\n",
       "  'Cerrado_WC(3)': 0.10566779600192308,\n",
       "  'u*': 0.08454180692102443,\n",
       "  'Rn_Avg': 0.4043486095942813,\n",
       "  'k15_evi': 0.03174634028275211},\n",
       " 'Spring': {'VPD': 0.41994774474541824,\n",
       "  'Cerrado_WC(3)': 0.026880525006993332,\n",
       "  'u*': 0.08290991998265089,\n",
       "  'Rn_Avg': 0.20471566596234791,\n",
       "  'k15_evi': 0.26554614430258966},\n",
       " 'All Seasons': {'VPD': 0.23747589552048004,\n",
       "  'Cerrado_WC(3)': 0.35391725020818027,\n",
       "  'u*': 0.11047770748896996,\n",
       "  'Rn_Avg': 0.20709693930271067,\n",
       "  'k15_evi': 0.09103220747965904}}"
      ]
     },
     "execution_count": 41,
     "metadata": {},
     "output_type": "execute_result"
    }
   ],
   "source": [
    "rf_results"
   ]
  },
  {
   "cell_type": "code",
   "execution_count": 42,
   "id": "f8612a96-1504-4735-b1e3-83f95fa526ad",
   "metadata": {},
   "outputs": [
    {
     "name": "stdout",
     "output_type": "stream",
     "text": [
      "{'VPD': 0.28773686422371886, 'Cerrado_WC(3)': 0.1485497170127706, 'u*': 0.15871790151029638, 'Rn_Avg': 0.31059408715962566, 'k15_evi': 0.09440143009358834}\n",
      "[0.28773686422371886, 0.1485497170127706, 0.15871790151029638, 0.31059408715962566, 0.09440143009358834]\n",
      "{'VPD': 0.22448118797552258, 'Cerrado_WC(3)': 0.10029957870229567, 'u*': 0.2242730468535428, 'Rn_Avg': 0.263592775648209, 'k15_evi': 0.18735341082042994}\n",
      "[0.22448118797552258, 0.10029957870229567, 0.2242730468535428, 0.263592775648209, 0.18735341082042994]\n",
      "{'VPD': 0.3736954472000191, 'Cerrado_WC(3)': 0.10566779600192308, 'u*': 0.08454180692102443, 'Rn_Avg': 0.4043486095942813, 'k15_evi': 0.03174634028275211}\n",
      "[0.3736954472000191, 0.10566779600192308, 0.08454180692102443, 0.4043486095942813, 0.03174634028275211]\n",
      "{'VPD': 0.41994774474541824, 'Cerrado_WC(3)': 0.026880525006993332, 'u*': 0.08290991998265089, 'Rn_Avg': 0.20471566596234791, 'k15_evi': 0.26554614430258966}\n",
      "[0.41994774474541824, 0.026880525006993332, 0.08290991998265089, 0.20471566596234791, 0.26554614430258966]\n",
      "{'VPD': 0.23747589552048004, 'Cerrado_WC(3)': 0.35391725020818027, 'u*': 0.11047770748896996, 'Rn_Avg': 0.20709693930271067, 'k15_evi': 0.09103220747965904}\n",
      "[0.23747589552048004, 0.35391725020818027, 0.11047770748896996, 0.20709693930271067, 0.09103220747965904]\n",
      "{'VPD': 0.19988631482671818, 'Cerrado_WC(3)': 0.22132125805309882, 'u*': 0.17898888557594309, 'Rn_Avg': 0.22709436702076372, 'k15_evi': 0.17270917452347634}\n",
      "[0.19988631482671818, 0.22132125805309882, 0.17898888557594309, 0.22709436702076372, 0.17270917452347634]\n",
      "{'VPD': 0.19898010973536379, 'Cerrado_WC(3)': 0.10549093773672026, 'u*': 0.20755350913386977, 'Rn_Avg': 0.21703604532328727, 'k15_evi': 0.27093939807075884}\n",
      "[0.19898010973536379, 0.10549093773672026, 0.20755350913386977, 0.21703604532328727, 0.27093939807075884]\n",
      "{'VPD': 0.4367258773332396, 'Cerrado_WC(3)': 0.08141415631249146, 'u*': 0.06932456810195534, 'Rn_Avg': 0.32822217769275297, 'k15_evi': 0.0843132205595607}\n",
      "[0.4367258773332396, 0.08141415631249146, 0.06932456810195534, 0.32822217769275297, 0.0843132205595607]\n",
      "{'VPD': 0.4471908150877205, 'Cerrado_WC(3)': 0.029178134683131494, 'u*': 0.08592108020854224, 'Rn_Avg': 0.16601506228046078, 'k15_evi': 0.27169490774014493}\n",
      "[0.4471908150877205, 0.029178134683131494, 0.08592108020854224, 0.16601506228046078, 0.27169490774014493]\n",
      "{'VPD': 0.25921826059267516, 'Cerrado_WC(3)': 0.3183053992634219, 'u*': 0.11222939582614735, 'Rn_Avg': 0.18046393267165076, 'k15_evi': 0.12978301164610478}\n",
      "[0.25921826059267516, 0.3183053992634219, 0.11222939582614735, 0.18046393267165076, 0.12978301164610478]\n"
     ]
    }
   ],
   "source": [
    "a = []\n",
    "for s in rf_results.keys():\n",
    "    print(rf_results[s])\n",
    "    t = []\n",
    "    for j in rf_results[s].keys():\n",
    "        t.append(rf_results[s][j])\n",
    "    print(t)\n",
    "    a.append(t)\n",
    "    \n",
    "    \n",
    "a_nok15 = []\n",
    "for s in rf_results_nok15.keys():\n",
    "    print(rf_results_nok15[s])\n",
    "    t = []\n",
    "    for j in rf_results_nok15[s].keys():\n",
    "        t.append(rf_results_nok15[s][j])\n",
    "    print(t)\n",
    "    a_nok15.append(t)"
   ]
  },
  {
   "cell_type": "code",
   "execution_count": 43,
   "id": "c7f553d2-10b7-4776-99cf-c21e9e92e408",
   "metadata": {},
   "outputs": [
    {
     "data": {
      "text/plain": [
       "<matplotlib.legend.Legend at 0x1a80f3dcbb0>"
      ]
     },
     "execution_count": 43,
     "metadata": {},
     "output_type": "execute_result"
    },
    {
     "data": {
      "image/png": "[encoded data removed]",
      "text/plain": [
       "<Figure size 900x300 with 2 Axes>"
      ]
     },
     "metadata": {},
     "output_type": "display_data"
    }
   ],
   "source": [
    "fig, ax = plt.subplots(ncols=2,figsize=(9,3), dpi=100)\n",
    "ax[0].stackplot([s for s in rf_results_nok15.keys()],np.array(a_nok15).T, \n",
    "              labels=[j for j in rf_results_nok15['Summer'].keys()],\n",
    "              baseline='zero', \n",
    "                # colors=['#E78AC3','#BCBD22','#00d9ff','#9147FF'],\n",
    "                alpha=1)\n",
    "\n",
    "ax[0].set_title('Without K15 filter')\n",
    "\n",
    "ax[1].stackplot([s for s in rf_results.keys()],np.array(a).T, \n",
    "                labels=[j for j in rf_results['Summer'].keys()], alpha=1,\n",
    "                # colors=['#E78AC3','#BCBD22','#00d9ff','#9147FF']\n",
    "               )\n",
    "\n",
    "ax[1].set_title('With K15 filter')\n",
    "plt.legend(frameon=False, ncol=5, bbox_to_anchor=(0, 1,0.6,0.07))\n",
    "\n",
    "# fig.savefig(final_imgFolder/'PRELIMINAR_rf_importance.png')\n",
    "# plt.stackplot([s for s in rf_results.keys()],np.array(a).T, labels=[j for j in rf_results['Summer'].keys()], alpha=0.3)\n",
    "# plt.legend(frameon=False, ncol=4, bbox_to_anchor=(0, 1,1,0.1))"
   ]
  },
  {
   "cell_type": "code",
   "execution_count": null,
   "id": "fed67d6e-701e-48ba-984a-b414e1970b86",
   "metadata": {},
   "outputs": [],
   "source": []
  },
  {
   "cell_type": "code",
   "execution_count": null,
   "id": "e161fb0e-acce-457d-9078-63b33e77fa36",
   "metadata": {},
   "outputs": [],
   "source": []
  },
  {
   "cell_type": "code",
   "execution_count": 44,
   "id": "fb16fc63-8107-4ba8-9b4d-c1938cf02758",
   "metadata": {},
   "outputs": [
    {
     "data": {
      "text/html": [
       "<div>\n",
       "<style scoped>\n",
       "    .dataframe tbody tr th:only-of-type {\n",
       "        vertical-align: middle;\n",
       "    }\n",
       "\n",
       "    .dataframe tbody tr th {\n",
       "        vertical-align: top;\n",
       "    }\n",
       "\n",
       "    .dataframe thead th {\n",
       "        text-align: right;\n",
       "    }\n",
       "</style>\n",
       "<table border=\"1\" class=\"dataframe\">\n",
       "  <thead>\n",
       "    <tr style=\"text-align: right;\">\n",
       "      <th></th>\n",
       "      <th>Summer</th>\n",
       "      <th>Autumn</th>\n",
       "      <th>Winter</th>\n",
       "      <th>Spring</th>\n",
       "      <th>All Seasons</th>\n",
       "    </tr>\n",
       "  </thead>\n",
       "  <tbody>\n",
       "    <tr>\n",
       "      <th>VPD</th>\n",
       "      <td>0.287737</td>\n",
       "      <td>0.224481</td>\n",
       "      <td>0.373695</td>\n",
       "      <td>0.419948</td>\n",
       "      <td>0.237476</td>\n",
       "    </tr>\n",
       "    <tr>\n",
       "      <th>Cerrado_WC(3)</th>\n",
       "      <td>0.148550</td>\n",
       "      <td>0.100300</td>\n",
       "      <td>0.105668</td>\n",
       "      <td>0.026881</td>\n",
       "      <td>0.353917</td>\n",
       "    </tr>\n",
       "    <tr>\n",
       "      <th>u*</th>\n",
       "      <td>0.158718</td>\n",
       "      <td>0.224273</td>\n",
       "      <td>0.084542</td>\n",
       "      <td>0.082910</td>\n",
       "      <td>0.110478</td>\n",
       "    </tr>\n",
       "    <tr>\n",
       "      <th>Rn_Avg</th>\n",
       "      <td>0.310594</td>\n",
       "      <td>0.263593</td>\n",
       "      <td>0.404349</td>\n",
       "      <td>0.204716</td>\n",
       "      <td>0.207097</td>\n",
       "    </tr>\n",
       "    <tr>\n",
       "      <th>k15_evi</th>\n",
       "      <td>0.094401</td>\n",
       "      <td>0.187353</td>\n",
       "      <td>0.031746</td>\n",
       "      <td>0.265546</td>\n",
       "      <td>0.091032</td>\n",
       "    </tr>\n",
       "  </tbody>\n",
       "</table>\n",
       "</div>"
      ],
      "text/plain": [
       "                 Summer    Autumn    Winter    Spring  All Seasons\n",
       "VPD            0.287737  0.224481  0.373695  0.419948     0.237476\n",
       "Cerrado_WC(3)  0.148550  0.100300  0.105668  0.026881     0.353917\n",
       "u*             0.158718  0.224273  0.084542  0.082910     0.110478\n",
       "Rn_Avg         0.310594  0.263593  0.404349  0.204716     0.207097\n",
       "k15_evi        0.094401  0.187353  0.031746  0.265546     0.091032"
      ]
     },
     "execution_count": 44,
     "metadata": {},
     "output_type": "execute_result"
    }
   ],
   "source": [
    "df_t"
   ]
  },
  {
   "cell_type": "code",
   "execution_count": 45,
   "id": "8b099987-32a5-4e3e-9d68-913024e3c690",
   "metadata": {},
   "outputs": [
    {
     "data": {
      "text/html": [
       "<div>\n",
       "<style scoped>\n",
       "    .dataframe tbody tr th:only-of-type {\n",
       "        vertical-align: middle;\n",
       "    }\n",
       "\n",
       "    .dataframe tbody tr th {\n",
       "        vertical-align: top;\n",
       "    }\n",
       "\n",
       "    .dataframe thead th {\n",
       "        text-align: right;\n",
       "    }\n",
       "</style>\n",
       "<table border=\"1\" class=\"dataframe\">\n",
       "  <thead>\n",
       "    <tr style=\"text-align: right;\">\n",
       "      <th></th>\n",
       "      <th>Summer</th>\n",
       "      <th>Autumn</th>\n",
       "      <th>Winter</th>\n",
       "      <th>Spring</th>\n",
       "      <th>All Seasons</th>\n",
       "    </tr>\n",
       "  </thead>\n",
       "  <tbody>\n",
       "    <tr>\n",
       "      <th>VPD</th>\n",
       "      <td>0.199886</td>\n",
       "      <td>0.198980</td>\n",
       "      <td>0.436726</td>\n",
       "      <td>0.447191</td>\n",
       "      <td>0.259218</td>\n",
       "    </tr>\n",
       "    <tr>\n",
       "      <th>Cerrado_WC(3)</th>\n",
       "      <td>0.221321</td>\n",
       "      <td>0.105491</td>\n",
       "      <td>0.081414</td>\n",
       "      <td>0.029178</td>\n",
       "      <td>0.318305</td>\n",
       "    </tr>\n",
       "    <tr>\n",
       "      <th>u*</th>\n",
       "      <td>0.178989</td>\n",
       "      <td>0.207554</td>\n",
       "      <td>0.069325</td>\n",
       "      <td>0.085921</td>\n",
       "      <td>0.112229</td>\n",
       "    </tr>\n",
       "    <tr>\n",
       "      <th>Rn_Avg</th>\n",
       "      <td>0.227094</td>\n",
       "      <td>0.217036</td>\n",
       "      <td>0.328222</td>\n",
       "      <td>0.166015</td>\n",
       "      <td>0.180464</td>\n",
       "    </tr>\n",
       "    <tr>\n",
       "      <th>k15_evi</th>\n",
       "      <td>0.172709</td>\n",
       "      <td>0.270939</td>\n",
       "      <td>0.084313</td>\n",
       "      <td>0.271695</td>\n",
       "      <td>0.129783</td>\n",
       "    </tr>\n",
       "  </tbody>\n",
       "</table>\n",
       "</div>"
      ],
      "text/plain": [
       "                 Summer    Autumn    Winter    Spring  All Seasons\n",
       "VPD            0.199886  0.198980  0.436726  0.447191     0.259218\n",
       "Cerrado_WC(3)  0.221321  0.105491  0.081414  0.029178     0.318305\n",
       "u*             0.178989  0.207554  0.069325  0.085921     0.112229\n",
       "Rn_Avg         0.227094  0.217036  0.328222  0.166015     0.180464\n",
       "k15_evi        0.172709  0.270939  0.084313  0.271695     0.129783"
      ]
     },
     "execution_count": 45,
     "metadata": {},
     "output_type": "execute_result"
    }
   ],
   "source": [
    "df_t2 #without k15 filter"
   ]
  },
  {
   "cell_type": "code",
   "execution_count": 46,
   "id": "651ed4e8-8b47-407e-8867-8bcb856a9d9e",
   "metadata": {},
   "outputs": [
    {
     "data": {
      "text/plain": [
       "array([[0.19988631, 0.19898011, 0.43672588, 0.44719082, 0.25921826],\n",
       "       [0.22132126, 0.10549094, 0.08141416, 0.02917813, 0.3183054 ],\n",
       "       [0.17898889, 0.20755351, 0.06932457, 0.08592108, 0.1122294 ],\n",
       "       [0.22709437, 0.21703605, 0.32822218, 0.16601506, 0.18046393],\n",
       "       [0.17270917, 0.2709394 , 0.08431322, 0.27169491, 0.12978301]])"
      ]
     },
     "execution_count": 46,
     "metadata": {},
     "output_type": "execute_result"
    }
   ],
   "source": [
    "np.array(a_nok15).T"
   ]
  },
  {
   "cell_type": "code",
   "execution_count": 47,
   "id": "d6404f6a-74a6-4bfb-8e18-036882cd7669",
   "metadata": {},
   "outputs": [
    {
     "data": {
      "text/plain": [
       "array([[0.28773686, 0.22448119, 0.37369545, 0.41994774, 0.2374759 ],\n",
       "       [0.14854972, 0.10029958, 0.1056678 , 0.02688053, 0.35391725],\n",
       "       [0.1587179 , 0.22427305, 0.08454181, 0.08290992, 0.11047771],\n",
       "       [0.31059409, 0.26359278, 0.40434861, 0.20471567, 0.20709694],\n",
       "       [0.09440143, 0.18735341, 0.03174634, 0.26554614, 0.09103221]])"
      ]
     },
     "execution_count": 47,
     "metadata": {},
     "output_type": "execute_result"
    }
   ],
   "source": [
    "np.array(a).T"
   ]
  },
  {
   "cell_type": "code",
   "execution_count": 48,
   "id": "9dc9f323-f5dc-4650-b684-769016916901",
   "metadata": {},
   "outputs": [
    {
     "data": {
      "text/plain": [
       "array([[-0.08785055, -0.02550108,  0.06303043,  0.02724307,  0.02174237],\n",
       "       [ 0.07277154,  0.00519136, -0.02425364,  0.00229761, -0.03561185],\n",
       "       [ 0.02027098, -0.01671954, -0.01521724,  0.00301116,  0.00175169],\n",
       "       [-0.08349972, -0.04655673, -0.07612643, -0.0387006 , -0.02663301],\n",
       "       [ 0.07830774,  0.08358599,  0.05256688,  0.00614876,  0.0387508 ]])"
      ]
     },
     "execution_count": 48,
     "metadata": {},
     "output_type": "execute_result"
    }
   ],
   "source": [
    "rel_diff = (np.array(a_nok15).T - np.array(a).T)\n",
    "rel_diff"
   ]
  },
  {
   "cell_type": "code",
   "execution_count": 49,
   "id": "01712299-e89a-49b3-84c8-f038050bf851",
   "metadata": {},
   "outputs": [
    {
     "data": {
      "text/html": [
       "<div>\n",
       "<style scoped>\n",
       "    .dataframe tbody tr th:only-of-type {\n",
       "        vertical-align: middle;\n",
       "    }\n",
       "\n",
       "    .dataframe tbody tr th {\n",
       "        vertical-align: top;\n",
       "    }\n",
       "\n",
       "    .dataframe thead th {\n",
       "        text-align: right;\n",
       "    }\n",
       "</style>\n",
       "<table border=\"1\" class=\"dataframe\">\n",
       "  <thead>\n",
       "    <tr style=\"text-align: right;\">\n",
       "      <th></th>\n",
       "      <th>Summer</th>\n",
       "      <th>Autumn</th>\n",
       "      <th>Winter</th>\n",
       "      <th>Spring</th>\n",
       "      <th>All Seasons</th>\n",
       "    </tr>\n",
       "  </thead>\n",
       "  <tbody>\n",
       "    <tr>\n",
       "      <th>VPD</th>\n",
       "      <td>0.439503</td>\n",
       "      <td>0.128159</td>\n",
       "      <td>-0.144325</td>\n",
       "      <td>-0.060920</td>\n",
       "      <td>-0.083877</td>\n",
       "    </tr>\n",
       "    <tr>\n",
       "      <th>Cerrado_WC(3)</th>\n",
       "      <td>-0.328805</td>\n",
       "      <td>-0.049211</td>\n",
       "      <td>0.297904</td>\n",
       "      <td>-0.078744</td>\n",
       "      <td>0.111880</td>\n",
       "    </tr>\n",
       "    <tr>\n",
       "      <th>u*</th>\n",
       "      <td>-0.113253</td>\n",
       "      <td>0.080555</td>\n",
       "      <td>0.219507</td>\n",
       "      <td>-0.035046</td>\n",
       "      <td>-0.015608</td>\n",
       "    </tr>\n",
       "    <tr>\n",
       "      <th>Rn_Avg</th>\n",
       "      <td>0.367687</td>\n",
       "      <td>0.214512</td>\n",
       "      <td>0.231936</td>\n",
       "      <td>0.233115</td>\n",
       "      <td>0.147581</td>\n",
       "    </tr>\n",
       "    <tr>\n",
       "      <th>k15_evi</th>\n",
       "      <td>-0.453408</td>\n",
       "      <td>-0.308504</td>\n",
       "      <td>-0.623471</td>\n",
       "      <td>-0.022631</td>\n",
       "      <td>-0.298581</td>\n",
       "    </tr>\n",
       "  </tbody>\n",
       "</table>\n",
       "</div>"
      ],
      "text/plain": [
       "                 Summer    Autumn    Winter    Spring  All Seasons\n",
       "VPD            0.439503  0.128159 -0.144325 -0.060920    -0.083877\n",
       "Cerrado_WC(3) -0.328805 -0.049211  0.297904 -0.078744     0.111880\n",
       "u*            -0.113253  0.080555  0.219507 -0.035046    -0.015608\n",
       "Rn_Avg         0.367687  0.214512  0.231936  0.233115     0.147581\n",
       "k15_evi       -0.453408 -0.308504 -0.623471 -0.022631    -0.298581"
      ]
     },
     "execution_count": 49,
     "metadata": {},
     "output_type": "execute_result"
    }
   ],
   "source": [
    "df_diff"
   ]
  },
  {
   "cell_type": "code",
   "execution_count": 50,
   "id": "91edb98e-2e95-4b9d-afe6-015e97045301",
   "metadata": {},
   "outputs": [
    {
     "data": {
      "text/plain": [
       "<AxesSubplot:>"
      ]
     },
     "execution_count": 50,
     "metadata": {},
     "output_type": "execute_result"
    },
    {
     "data": {
      "image/png": "[encoded data removed]",
      "text/plain": [
       "<Figure size 432x288 with 2 Axes>"
      ]
     },
     "metadata": {},
     "output_type": "display_data"
    }
   ],
   "source": [
    "sns.heatmap(df_diff, annot=True)"
   ]
  },
  {
   "cell_type": "code",
   "execution_count": 51,
   "id": "19f71c7a-53c8-46b7-a21f-17bda90048a3",
   "metadata": {},
   "outputs": [
    {
     "data": {
      "text/html": [
       "<div>\n",
       "<style scoped>\n",
       "    .dataframe tbody tr th:only-of-type {\n",
       "        vertical-align: middle;\n",
       "    }\n",
       "\n",
       "    .dataframe tbody tr th {\n",
       "        vertical-align: top;\n",
       "    }\n",
       "\n",
       "    .dataframe thead th {\n",
       "        text-align: right;\n",
       "    }\n",
       "</style>\n",
       "<table border=\"1\" class=\"dataframe\">\n",
       "  <thead>\n",
       "    <tr style=\"text-align: right;\">\n",
       "      <th></th>\n",
       "      <th>index</th>\n",
       "      <th>Summer</th>\n",
       "      <th>Autumn</th>\n",
       "      <th>Winter</th>\n",
       "      <th>Spring</th>\n",
       "      <th>All Seasons</th>\n",
       "    </tr>\n",
       "  </thead>\n",
       "  <tbody>\n",
       "    <tr>\n",
       "      <th>0</th>\n",
       "      <td>VPD</td>\n",
       "      <td>0.439503</td>\n",
       "      <td>0.128159</td>\n",
       "      <td>-0.144325</td>\n",
       "      <td>-0.060920</td>\n",
       "      <td>-0.083877</td>\n",
       "    </tr>\n",
       "    <tr>\n",
       "      <th>1</th>\n",
       "      <td>Cerrado_WC(3)</td>\n",
       "      <td>-0.328805</td>\n",
       "      <td>-0.049211</td>\n",
       "      <td>0.297904</td>\n",
       "      <td>-0.078744</td>\n",
       "      <td>0.111880</td>\n",
       "    </tr>\n",
       "    <tr>\n",
       "      <th>2</th>\n",
       "      <td>u*</td>\n",
       "      <td>-0.113253</td>\n",
       "      <td>0.080555</td>\n",
       "      <td>0.219507</td>\n",
       "      <td>-0.035046</td>\n",
       "      <td>-0.015608</td>\n",
       "    </tr>\n",
       "    <tr>\n",
       "      <th>3</th>\n",
       "      <td>Rn_Avg</td>\n",
       "      <td>0.367687</td>\n",
       "      <td>0.214512</td>\n",
       "      <td>0.231936</td>\n",
       "      <td>0.233115</td>\n",
       "      <td>0.147581</td>\n",
       "    </tr>\n",
       "    <tr>\n",
       "      <th>4</th>\n",
       "      <td>k15_evi</td>\n",
       "      <td>-0.453408</td>\n",
       "      <td>-0.308504</td>\n",
       "      <td>-0.623471</td>\n",
       "      <td>-0.022631</td>\n",
       "      <td>-0.298581</td>\n",
       "    </tr>\n",
       "  </tbody>\n",
       "</table>\n",
       "</div>"
      ],
      "text/plain": [
       "           index    Summer    Autumn    Winter    Spring  All Seasons\n",
       "0            VPD  0.439503  0.128159 -0.144325 -0.060920    -0.083877\n",
       "1  Cerrado_WC(3) -0.328805 -0.049211  0.297904 -0.078744     0.111880\n",
       "2             u* -0.113253  0.080555  0.219507 -0.035046    -0.015608\n",
       "3         Rn_Avg  0.367687  0.214512  0.231936  0.233115     0.147581\n",
       "4        k15_evi -0.453408 -0.308504 -0.623471 -0.022631    -0.298581"
      ]
     },
     "execution_count": 51,
     "metadata": {},
     "output_type": "execute_result"
    }
   ],
   "source": [
    "df_diff.reset_index()"
   ]
  },
  {
   "cell_type": "code",
   "execution_count": 52,
   "id": "eaa8ce82-fd02-483b-b919-3392e375f5bd",
   "metadata": {},
   "outputs": [],
   "source": [
    "df_diff2 = df_diff.T.reset_index().rename(columns={'index': 'Season'})"
   ]
  },
  {
   "cell_type": "code",
   "execution_count": 53,
   "id": "553359b7-007c-4681-bc34-65b9dc54dc32",
   "metadata": {},
   "outputs": [
    {
     "data": {
      "text/html": [
       "<div>\n",
       "<style scoped>\n",
       "    .dataframe tbody tr th:only-of-type {\n",
       "        vertical-align: middle;\n",
       "    }\n",
       "\n",
       "    .dataframe tbody tr th {\n",
       "        vertical-align: top;\n",
       "    }\n",
       "\n",
       "    .dataframe thead th {\n",
       "        text-align: right;\n",
       "    }\n",
       "</style>\n",
       "<table border=\"1\" class=\"dataframe\">\n",
       "  <thead>\n",
       "    <tr style=\"text-align: right;\">\n",
       "      <th></th>\n",
       "      <th>Season</th>\n",
       "      <th>VPD</th>\n",
       "      <th>Cerrado_WC(3)</th>\n",
       "      <th>u*</th>\n",
       "      <th>Rn_Avg</th>\n",
       "      <th>k15_evi</th>\n",
       "    </tr>\n",
       "  </thead>\n",
       "  <tbody>\n",
       "    <tr>\n",
       "      <th>0</th>\n",
       "      <td>Summer</td>\n",
       "      <td>0.439503</td>\n",
       "      <td>-0.328805</td>\n",
       "      <td>-0.113253</td>\n",
       "      <td>0.367687</td>\n",
       "      <td>-0.453408</td>\n",
       "    </tr>\n",
       "    <tr>\n",
       "      <th>1</th>\n",
       "      <td>Autumn</td>\n",
       "      <td>0.128159</td>\n",
       "      <td>-0.049211</td>\n",
       "      <td>0.080555</td>\n",
       "      <td>0.214512</td>\n",
       "      <td>-0.308504</td>\n",
       "    </tr>\n",
       "    <tr>\n",
       "      <th>2</th>\n",
       "      <td>Winter</td>\n",
       "      <td>-0.144325</td>\n",
       "      <td>0.297904</td>\n",
       "      <td>0.219507</td>\n",
       "      <td>0.231936</td>\n",
       "      <td>-0.623471</td>\n",
       "    </tr>\n",
       "    <tr>\n",
       "      <th>3</th>\n",
       "      <td>Spring</td>\n",
       "      <td>-0.060920</td>\n",
       "      <td>-0.078744</td>\n",
       "      <td>-0.035046</td>\n",
       "      <td>0.233115</td>\n",
       "      <td>-0.022631</td>\n",
       "    </tr>\n",
       "    <tr>\n",
       "      <th>4</th>\n",
       "      <td>All Seasons</td>\n",
       "      <td>-0.083877</td>\n",
       "      <td>0.111880</td>\n",
       "      <td>-0.015608</td>\n",
       "      <td>0.147581</td>\n",
       "      <td>-0.298581</td>\n",
       "    </tr>\n",
       "  </tbody>\n",
       "</table>\n",
       "</div>"
      ],
      "text/plain": [
       "        Season       VPD  Cerrado_WC(3)        u*    Rn_Avg   k15_evi\n",
       "0       Summer  0.439503      -0.328805 -0.113253  0.367687 -0.453408\n",
       "1       Autumn  0.128159      -0.049211  0.080555  0.214512 -0.308504\n",
       "2       Winter -0.144325       0.297904  0.219507  0.231936 -0.623471\n",
       "3       Spring -0.060920      -0.078744 -0.035046  0.233115 -0.022631\n",
       "4  All Seasons -0.083877       0.111880 -0.015608  0.147581 -0.298581"
      ]
     },
     "execution_count": 53,
     "metadata": {},
     "output_type": "execute_result"
    }
   ],
   "source": [
    "df_diff2"
   ]
  },
  {
   "cell_type": "code",
   "execution_count": 54,
   "id": "9d00d326-9b3f-4828-bf48-82c08e9e961a",
   "metadata": {},
   "outputs": [
    {
     "data": {
      "text/html": [
       "<div>\n",
       "<style scoped>\n",
       "    .dataframe tbody tr th:only-of-type {\n",
       "        vertical-align: middle;\n",
       "    }\n",
       "\n",
       "    .dataframe tbody tr th {\n",
       "        vertical-align: top;\n",
       "    }\n",
       "\n",
       "    .dataframe thead th {\n",
       "        text-align: right;\n",
       "    }\n",
       "</style>\n",
       "<table border=\"1\" class=\"dataframe\">\n",
       "  <thead>\n",
       "    <tr style=\"text-align: right;\">\n",
       "      <th></th>\n",
       "      <th>index</th>\n",
       "      <th>Summer</th>\n",
       "      <th>Autumn</th>\n",
       "      <th>Winter</th>\n",
       "      <th>Spring</th>\n",
       "      <th>All Seasons</th>\n",
       "    </tr>\n",
       "  </thead>\n",
       "  <tbody>\n",
       "    <tr>\n",
       "      <th>0</th>\n",
       "      <td>VPD</td>\n",
       "      <td>0.439503</td>\n",
       "      <td>0.128159</td>\n",
       "      <td>-0.144325</td>\n",
       "      <td>-0.060920</td>\n",
       "      <td>-0.083877</td>\n",
       "    </tr>\n",
       "    <tr>\n",
       "      <th>1</th>\n",
       "      <td>Cerrado_WC(3)</td>\n",
       "      <td>-0.328805</td>\n",
       "      <td>-0.049211</td>\n",
       "      <td>0.297904</td>\n",
       "      <td>-0.078744</td>\n",
       "      <td>0.111880</td>\n",
       "    </tr>\n",
       "    <tr>\n",
       "      <th>2</th>\n",
       "      <td>u*</td>\n",
       "      <td>-0.113253</td>\n",
       "      <td>0.080555</td>\n",
       "      <td>0.219507</td>\n",
       "      <td>-0.035046</td>\n",
       "      <td>-0.015608</td>\n",
       "    </tr>\n",
       "    <tr>\n",
       "      <th>3</th>\n",
       "      <td>Rn_Avg</td>\n",
       "      <td>0.367687</td>\n",
       "      <td>0.214512</td>\n",
       "      <td>0.231936</td>\n",
       "      <td>0.233115</td>\n",
       "      <td>0.147581</td>\n",
       "    </tr>\n",
       "    <tr>\n",
       "      <th>4</th>\n",
       "      <td>k15_evi</td>\n",
       "      <td>-0.453408</td>\n",
       "      <td>-0.308504</td>\n",
       "      <td>-0.623471</td>\n",
       "      <td>-0.022631</td>\n",
       "      <td>-0.298581</td>\n",
       "    </tr>\n",
       "  </tbody>\n",
       "</table>\n",
       "</div>"
      ],
      "text/plain": [
       "           index    Summer    Autumn    Winter    Spring  All Seasons\n",
       "0            VPD  0.439503  0.128159 -0.144325 -0.060920    -0.083877\n",
       "1  Cerrado_WC(3) -0.328805 -0.049211  0.297904 -0.078744     0.111880\n",
       "2             u* -0.113253  0.080555  0.219507 -0.035046    -0.015608\n",
       "3         Rn_Avg  0.367687  0.214512  0.231936  0.233115     0.147581\n",
       "4        k15_evi -0.453408 -0.308504 -0.623471 -0.022631    -0.298581"
      ]
     },
     "execution_count": 54,
     "metadata": {},
     "output_type": "execute_result"
    }
   ],
   "source": [
    "df_diff.reset_index()"
   ]
  },
  {
   "cell_type": "code",
   "execution_count": 55,
   "id": "38dc4b12-0715-43fb-8362-4ad9e5459ad0",
   "metadata": {},
   "outputs": [],
   "source": [
    "df_diff3 = pd.melt(df_diff.reset_index(), id_vars='index', var_name='season',value_name='value')\n",
    "df_diff3['value'] = df_diff3['value']*100"
   ]
  },
  {
   "cell_type": "code",
   "execution_count": null,
   "id": "ee695272-a460-42d8-8c87-176c457c79e5",
   "metadata": {},
   "outputs": [],
   "source": []
  },
  {
   "cell_type": "code",
   "execution_count": 59,
   "id": "8ecd8bb3-095a-4801-aa56-dce43560d247",
   "metadata": {},
   "outputs": [
    {
     "data": {
      "image/png": "[encoded data removed]",
      "text/plain": [
       "<Figure size 788.8x288 with 1 Axes>"
      ]
     },
     "metadata": {},
     "output_type": "display_data"
    }
   ],
   "source": [
    "\n",
    "sns.set_theme(style=\"darkgrid\")\n",
    "colors = ['#d98088','#e6c095','#9bb7e0','#b9e69c','grey']\n",
    "my_palette = sns.color_palette(colors)\n",
    "\n",
    "g=sns.catplot(x='index', y='value', hue='season', kind='bar', data=df_diff3, palette=my_palette,aspect=2.4, height=4)\n",
    "plt.ylim((-75,75))\n",
    "\n",
    "sns.move_legend(g, \"upper center\", ncol=5, title=None, frameon=False, bbox_to_anchor=(0.5,0.97))\n",
    "ax = g.facet_axis(0, 0)\n",
    "\n",
    "g.set_ylabels('Change in RF feature importance [%]')\n",
    "g.set_xlabels('')\n",
    "g.set_xticklabels(labels=['VPD','SWC', '$u^*$','$R_n$','$EVI_{footprint}$'])\n",
    "for i in range(4):\n",
    "    ax.axvline(x=0.5+i, ymin=0.05, ymax=0.85, linestyle='--', color='white', linewidth=1.2)    \n",
    "\n",
    "# ax.axhline(y=0, color='white')\n",
    "\n",
    "for c in ax.containers:\n",
    "    labels = [f'{(v.get_height()):.0f}%' for v in c]\n",
    "    ax.bar_label(c, labels=labels, label_type='edge', padding=3, fontsize=10)\n",
    "    \n",
    "#g.savefig(final_imgFolder/'rf_importanceChange_v2.png', dpi=300)"
   ]
  },
  {
   "cell_type": "code",
   "execution_count": 57,
   "id": "ba75ca43-f64e-42c1-ae56-7033b14c47f6",
   "metadata": {},
   "outputs": [
    {
     "data": {
      "text/plain": [
       "WindowsPath('G:/Meu Drive/USP-Mestrado/Masters-Data/Imgs/Final')"
      ]
     },
     "execution_count": 57,
     "metadata": {},
     "output_type": "execute_result"
    }
   ],
   "source": [
    "final_imgFolder"
   ]
  },
  {
   "cell_type": "code",
   "execution_count": 56,
   "id": "c4fef810-c63a-437f-add1-09e2f0323765",
   "metadata": {},
   "outputs": [],
   "source": [
    "#EAEAF2"
   ]
  },
  {
   "cell_type": "code",
   "execution_count": null,
   "id": "07e2d1f4-e794-4297-9abb-4ee474cb29b8",
   "metadata": {},
   "outputs": [],
   "source": []
  }
 ],
 "metadata": {
  "kernelspec": {
   "display_name": "Masters",
   "language": "python",
   "name": "masters"
  },
  "language_info": {
   "codemirror_mode": {
    "name": "ipython",
    "version": 3
   },
   "file_extension": ".py",
   "mimetype": "text/x-python",
   "name": "python",
   "nbconvert_exporter": "python",
   "pygments_lexer": "ipython3",
   "version": "3.9.12"
  }
 },
 "nbformat": 4,
 "nbformat_minor": 5
}
