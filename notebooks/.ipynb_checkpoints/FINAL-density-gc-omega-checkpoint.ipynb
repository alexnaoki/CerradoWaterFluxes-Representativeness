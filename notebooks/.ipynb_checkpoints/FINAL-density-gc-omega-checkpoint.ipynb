{
 "cells": [
  {
   "cell_type": "code",
   "execution_count": 1,
   "id": "fa542682-2733-40b4-b468-548feb6b8f1f",
   "metadata": {},
   "outputs": [],
   "source": [
    "%load_ext autoreload\n",
    "%autoreload 2"
   ]
  },
  {
   "cell_type": "markdown",
   "id": "6b1b74e1-fa5c-409d-9d5d-1781f06c7b4d",
   "metadata": {},
   "source": [
    "# 0. Libraries\n",
    "\n",
    "------------------"
   ]
  },
  {
   "cell_type": "code",
   "execution_count": 2,
   "id": "98eb93a1-0b69-441c-8d87-bc275eb43c9b",
   "metadata": {},
   "outputs": [],
   "source": [
    "import sys\n",
    "sys.path.append(r'C:\\Users\\Alex\\git\\EC-LHC\\footprint\\FFP_python_v1_4')\n",
    "sys.path.append(r'C:\\Users\\Alex\\git\\Masters-EC-Article\\source')\n",
    "from calc_footprint_FFP_adjusted01 import FFP\n",
    "from k15_to_raster import K15_to_raster\n",
    "from initialize_analysis import InitializeAnalysis"
   ]
  },
  {
   "cell_type": "code",
   "execution_count": 3,
   "id": "78f2bb65-4602-470d-98b5-ee0b03fee216",
   "metadata": {},
   "outputs": [],
   "source": [
    "import pandas as pd\n",
    "import numpy as np\n",
    "import matplotlib.pyplot as plt\n",
    "import pathlib\n",
    "import seaborn as sns\n",
    "import scipy as sp\n",
    "import datetime as dt\n",
    "import scipy\n",
    "import matplotlib.patches as mpatches\n",
    "import matplotlib.lines as mlines"
   ]
  },
  {
   "cell_type": "code",
   "execution_count": 4,
   "id": "11472d18-fd77-4818-a5b1-2144559d93da",
   "metadata": {},
   "outputs": [],
   "source": [
    "import pathlib\n",
    "from functools import reduce\n"
   ]
  },
  {
   "cell_type": "code",
   "execution_count": 5,
   "id": "3568510d-ae85-4472-b341-9469ae2f655b",
   "metadata": {},
   "outputs": [],
   "source": [
    "from sklearn.ensemble import RandomForestRegressor\n",
    "from sklearn.ensemble import RandomForestClassifier\n",
    "from sklearn.preprocessing import StandardScaler\n",
    "from sklearn.decomposition import PCA\n",
    "from sklearn.inspection import permutation_importance\n",
    "from sklearn.feature_selection import mutual_info_regression"
   ]
  },
  {
   "cell_type": "code",
   "execution_count": null,
   "id": "e21bf751-b4a8-4a7a-b534-4ae706b1c54f",
   "metadata": {},
   "outputs": [],
   "source": []
  },
  {
   "cell_type": "code",
   "execution_count": 6,
   "id": "db9cf359-c132-41df-b112-baa97c68b6d9",
   "metadata": {},
   "outputs": [],
   "source": [
    "final_imgFolder = pathlib.Path(r\"G:\\Meu Drive\\USP-Mestrado\\Masters-Data\\Imgs\\Final\")"
   ]
  },
  {
   "cell_type": "markdown",
   "id": "29daa394-c0b2-4001-b861-d94a4c1d9bd8",
   "metadata": {},
   "source": [
    "# 1. Reading files\n",
    "\n",
    "------------------"
   ]
  },
  {
   "cell_type": "code",
   "execution_count": 7,
   "id": "b371325d-cc59-43a0-9fc6-992ff4818b9b",
   "metadata": {},
   "outputs": [
    {
     "name": "stdout",
     "output_type": "stream",
     "text": [
      "Reading IAB3_EP files...\n",
      "# IAB3_EP: 5\tInicio: 2018-10-05 00:30:00\tFim: 2021-01-08 00:00:00\n",
      "Reading IAB3_LF files...\n",
      "# IAB3_LF: 41\tInicio:2018-09-07 19:30:00\tFim: 2021-01-08 09:30:00\n",
      "Reading IAB2 files...\n",
      "# IAB2: 38\tInicio: 2017-02-03 09:20:00\tFim: 2021-01-22 11:30:00\n",
      "Reading IAB1 files...\n",
      "# IAB1: 12\tInicio: 2015-07-17 15:00:00\tFim: 2021-01-22 10:50:00\n",
      "Reading Footprint file...\n",
      "Inicio: 2018-10-05 00:30:00\tFim: 2021-01-08 00:00:00\n",
      "Reading K15 files...\n",
      "# K15: 24\tInicio: 2018-10-05 00:30:00\tFim: 2021-01-08 00:00:00\n",
      "Duplicatas:  0\n",
      "Verificacao de Duplicatas:  0\n",
      "Duplicatas:  1\n",
      "Verificacao de Duplicatas:  0\n",
      "Duplicatas:  840479\n",
      "Verificacao de Duplicatas:  0\n",
      "Duplicatas:  507541\n",
      "Verificacao de Duplicatas:  0\n"
     ]
    }
   ],
   "source": [
    "a = InitializeAnalysis(\n",
    "    ep_path=r\"G:\\Meu Drive\\USP-Mestrado\\Masters-Data\\EddyPro\\2-Final-Fase01020304\\EddyPro_Fase01020304\",\n",
    "    lf_path=r\"G:\\Meu Drive\\USP-Mestrado\\Masters-Data\\Dados_Brutos\\IAB3\",\n",
    "    iab1_path=r\"G:\\Meu Drive\\USP-Mestrado\\Masters-Data\\Dados_Brutos\\IAB1\",\n",
    "    iab2_path=r\"G:\\Meu Drive\\USP-Mestrado\\Masters-Data\\Dados_Brutos\\IAB2\\IAB2\",\n",
    "    footprint_file=r\"G:\\Meu Drive\\USP-Mestrado\\Masters-Data\\Footprint\\classification_pixel_2018-10-05-00-30to2021-01-08-00-00_pf_80.csv\",\n",
    "    k15_path=r\"G:\\Meu Drive\\USP-Mestrado\\Masters-Data\\Footprint\\k15_process_data_v2\",\n",
    "    # lai_file_path=r\"G:\\Meu Drive\\USP-Mestrado\\Masters-Data\\LAI\\process_data\\lai_reduced_k15_2020.csv\",\n",
    "    # # evi_file_path=r\"G:\\Meu Drive\\USP-Mestrado\\Masters-Data\\EVI\\processed_data\\evi_reduced_k15_2020.csv\"\n",
    "    # # evi_file_path=r\"G:\\Meu Drive\\USP-Mestrado\\Masters-Data\\EVI\\processed_data\\toa\\evi_reduced_k15_2020.csv\"\n",
    "    # # evi_file_path=r\"G:\\Meu Drive\\USP-Mestrado\\Masters-Data\\EVI\\processed_data\\sr\\evi_reduced_k15_2020.csv\"\n",
    "    # evi_file_path=r\"G:\\Meu Drive\\USP-Mestrado\\Masters-Data\\EVI\\processed_data\\sr\\evi_reduced_mean_2020.csv\"\n",
    "\n",
    "\n",
    ")"
   ]
  },
  {
   "cell_type": "code",
   "execution_count": 8,
   "id": "cf7387fa-afbb-4802-bdb3-ec9349d5026e",
   "metadata": {},
   "outputs": [
    {
     "name": "stdout",
     "output_type": "stream",
     "text": [
      "G:\\Meu Drive\\USP-Mestrado\\Masters-Data\\EVI\\processed_data\\sr\\V2\\k15_evi\\k15_evi_sum.csv\n",
      "G:\\Meu Drive\\USP-Mestrado\\Masters-Data\\EVI\\processed_data\\sr\\V2\\k15_evi\\k15_evi_acc_n.csv\n",
      "G:\\Meu Drive\\USP-Mestrado\\Masters-Data\\EVI\\processed_data\\sr\\V2\\k15_evi\\k15_evi_rej_n.csv\n",
      "G:\\Meu Drive\\USP-Mestrado\\Masters-Data\\EVI\\processed_data\\sr\\V2\\k15_evi\\evi_radius_median.csv\n",
      "G:\\Meu Drive\\USP-Mestrado\\Masters-Data\\EVI\\processed_data\\sr\\V2\\k15_evi\\evi_radius_mean.csv\n"
     ]
    },
    {
     "name": "stderr",
     "output_type": "stream",
     "text": [
      "C:\\Users\\Alex\\AppData\\Local\\Temp\\ipykernel_23796\\2325117739.py:6: FutureWarning: Passing 'suffixes' which cause duplicate columns {'Unnamed: 0_x'} in the result is deprecated and will raise a MergeError in a future version.\n",
      "  evi_df = reduce(lambda left, right: pd.merge(left, right, on=['time']), evi_dfs)\n"
     ]
    }
   ],
   "source": [
    "k15_evi_path = pathlib.Path(r'G:\\Meu Drive\\USP-Mestrado\\Masters-Data\\EVI\\processed_data\\sr\\V2\\k15_evi')\n",
    "evi_dfs = []\n",
    "for i in k15_evi_path.rglob('*.csv'):\n",
    "    print(i)\n",
    "    evi_dfs.append(pd.read_csv(i))\n",
    "evi_df = reduce(lambda left, right: pd.merge(left, right, on=['time']), evi_dfs)\n",
    "\n",
    "column_evi = ['time','k15_evi','k15_evi_acc_n','k15_evi_rej_n','evi_radius_median','evi_radius_mean']\n",
    "evi_df = evi_df[column_evi]\n",
    "evi_df.rename(columns={'time':'TIMESTAMP'}, inplace=True)\n",
    "evi_df['TIMESTAMP'] = pd.to_datetime(evi_df['TIMESTAMP'])"
   ]
  },
  {
   "cell_type": "code",
   "execution_count": null,
   "id": "bc8bc4fe-a9a8-46a4-a4ca-1c4b4c445482",
   "metadata": {},
   "outputs": [],
   "source": []
  },
  {
   "cell_type": "code",
   "execution_count": 9,
   "id": "f3693951-a7d0-4407-8335-17d6ded4daac",
   "metadata": {},
   "outputs": [],
   "source": [
    "df = a.select_datetime(year=2020, begin_hour=7, end_hour=17)"
   ]
  },
  {
   "cell_type": "code",
   "execution_count": 10,
   "id": "661ae12f-df93-41f2-9e64-ca8613e3dbb3",
   "metadata": {},
   "outputs": [
    {
     "data": {
      "text/plain": [
       "Index(['index_x', 'TIMESTAMP', 'date', 'time', 'H', 'qc_H', 'LE', 'qc_LE',\n",
       "       'co2_flux', 'H_strg', 'LE_strg', 'sonic_temperature', 'air_temperature',\n",
       "       'air_pressure', 'air_density', 'ET', 'e', 'es', 'RH', 'VPD', 'Tdew',\n",
       "       'u_unrot', 'v_unrot', 'w_unrot', 'u_rot', 'v_rot', 'w_rot',\n",
       "       'wind_speed', 'max_wind_speed', 'wind_dir', 'u*', '(z-d)/L', 'un_H',\n",
       "       'H_scf', 'un_LE', 'LE_scf', 'u_var', 'v_var', 'w_var', 'ts_var',\n",
       "       'index_y', 'CO2_sig_strgth_mean', 'H2O_sig_strgth_mean', 'Rn_Avg',\n",
       "       'Rs_incoming_Avg', 'Rs_outgoing_Avg', 'Rl_incoming_Avg',\n",
       "       'Rl_outgoing_Avg', 'Rl_incoming_meas_Avg', 'Rl_outgoing_meas_Avg',\n",
       "       'shf_Avg(1)', 'shf_Avg(2)', 'precip_Tot', 'code03', 'code04', 'code09',\n",
       "       'code12', 'code15', 'code19', 'code20', 'code24', 'code25', 'code33',\n",
       "       'Unnamed: 0', 'datetime', 'k15_n', 'k15_filter_n', 'flag_qaqc',\n",
       "       'flag_rain', 'flag_signalStr', 'footprint_acceptance', 'flag_footprint',\n",
       "       'flag_k15', 'flag_basic', 'flag_full', 'Hour', 'Day', 'Month', 'Season',\n",
       "       'Weather', 'psychrometric_kPa', 'delta', 'VPD_kPa', 'LE_MJmh',\n",
       "       'Rn_Avg_MJmh', 'shf_Avg_MJmh', 'ga', 'gc', 'ratio_gagc', 'ratio_gcga',\n",
       "       'ratio_deltapsy', 'Omega', 'Omega-1', 'Omega_max', 'Omega_min',\n",
       "       'Omega_med', 'wind_dir_sonic', 'wind_dir_compass'],\n",
       "      dtype='object')"
      ]
     },
     "execution_count": 10,
     "metadata": {},
     "output_type": "execute_result"
    }
   ],
   "source": [
    "df.columns"
   ]
  },
  {
   "cell_type": "code",
   "execution_count": 11,
   "id": "d3755d5e-fe78-4272-9ef6-a0cf5d385c8c",
   "metadata": {},
   "outputs": [],
   "source": [
    "df_2 = a.iab2_df_resample"
   ]
  },
  {
   "cell_type": "code",
   "execution_count": 12,
   "id": "6624973a-17e5-485c-80e0-412ca185a63d",
   "metadata": {},
   "outputs": [
    {
     "data": {
      "text/plain": [
       "Index(['TIMESTAMP', 'index', 'RECORD', 'PTemp_C_Avg', 'WS_ms_Avg', 'WindDir',\n",
       "       'G_Wm2_Avg', 'AirTC_Avg', 'RH', 'AirTC_2_Avg', 'RH_2', 'NR_Wm2_Avg',\n",
       "       'CNR_Wm2_Avg', 'Rain_mm_Tot', 'Cerrado_SF(1)', 'Cerrado_SF(2)',\n",
       "       'Cerrado_SF(3)', 'Cerrado_SF(4)', 'Cerrado_SF(5)', 'Cerrado_WC(1)',\n",
       "       'Cerrado_WC(2)', 'Cerrado_WC(3)', 'Cerrado_WC(4)', 'Cerrado_WC(5)',\n",
       "       'BattV_Avg', 'Temp_C_Avg(1)', 'Temp_C_Avg(2)', 'Temp_C_Avg(3)',\n",
       "       'Temp_C_Avg(4)', 'BattV_Min', 'Rain_mm_TOT_torre', 'Rain_mm_2_PI_Tot',\n",
       "       'Rain_mm_3_LID_Tot', 'FullBR_LID1_Avg', 'FullBR_LID1',\n",
       "       'FullBR_LID1_Std', 'Rain_mm_4_PI_Tot', 'Rain_mm_5_LID_Tot',\n",
       "       'FullBR_LID2_Avg', 'FullBR_LID2', 'FullBR_LID2_Std', 'Rain_mm_6_EF_Tot',\n",
       "       'Rain_mm_7_EF_Tot', 'Rain_mm_8_EF_Tot', 'Termopar_C'],\n",
       "      dtype='object')"
      ]
     },
     "execution_count": 12,
     "metadata": {},
     "output_type": "execute_result"
    }
   ],
   "source": [
    "df_2.columns"
   ]
  },
  {
   "cell_type": "code",
   "execution_count": 13,
   "id": "b057ef68-35c8-4e2f-bce6-c9e53ea3a659",
   "metadata": {},
   "outputs": [
    {
     "data": {
      "text/html": [
       "<div>\n",
       "<style scoped>\n",
       "    .dataframe tbody tr th:only-of-type {\n",
       "        vertical-align: middle;\n",
       "    }\n",
       "\n",
       "    .dataframe tbody tr th {\n",
       "        vertical-align: top;\n",
       "    }\n",
       "\n",
       "    .dataframe thead th {\n",
       "        text-align: right;\n",
       "    }\n",
       "</style>\n",
       "<table border=\"1\" class=\"dataframe\">\n",
       "  <thead>\n",
       "    <tr style=\"text-align: right;\">\n",
       "      <th></th>\n",
       "      <th>Cerrado_WC(1)</th>\n",
       "      <th>Cerrado_WC(2)</th>\n",
       "      <th>Cerrado_WC(3)</th>\n",
       "      <th>Cerrado_WC(4)</th>\n",
       "      <th>Cerrado_WC(5)</th>\n",
       "    </tr>\n",
       "  </thead>\n",
       "  <tbody>\n",
       "    <tr>\n",
       "      <th>count</th>\n",
       "      <td>5319.000000</td>\n",
       "      <td>16483.000000</td>\n",
       "      <td>16483.000000</td>\n",
       "      <td>16483.000000</td>\n",
       "      <td>16483.000000</td>\n",
       "    </tr>\n",
       "    <tr>\n",
       "      <th>mean</th>\n",
       "      <td>12.202708</td>\n",
       "      <td>11.746648</td>\n",
       "      <td>8.988998</td>\n",
       "      <td>8.910687</td>\n",
       "      <td>9.580559</td>\n",
       "    </tr>\n",
       "    <tr>\n",
       "      <th>std</th>\n",
       "      <td>5.413039</td>\n",
       "      <td>4.605882</td>\n",
       "      <td>3.498538</td>\n",
       "      <td>2.851619</td>\n",
       "      <td>2.841548</td>\n",
       "    </tr>\n",
       "    <tr>\n",
       "      <th>min</th>\n",
       "      <td>6.290667</td>\n",
       "      <td>6.372667</td>\n",
       "      <td>6.251000</td>\n",
       "      <td>6.613000</td>\n",
       "      <td>7.080000</td>\n",
       "    </tr>\n",
       "    <tr>\n",
       "      <th>25%</th>\n",
       "      <td>7.412167</td>\n",
       "      <td>7.467000</td>\n",
       "      <td>6.429000</td>\n",
       "      <td>6.769000</td>\n",
       "      <td>7.240500</td>\n",
       "    </tr>\n",
       "    <tr>\n",
       "      <th>50%</th>\n",
       "      <td>9.783333</td>\n",
       "      <td>10.670000</td>\n",
       "      <td>7.165000</td>\n",
       "      <td>7.516000</td>\n",
       "      <td>8.410000</td>\n",
       "    </tr>\n",
       "    <tr>\n",
       "      <th>75%</th>\n",
       "      <td>17.038333</td>\n",
       "      <td>14.340000</td>\n",
       "      <td>11.280000</td>\n",
       "      <td>10.980000</td>\n",
       "      <td>11.950000</td>\n",
       "    </tr>\n",
       "    <tr>\n",
       "      <th>max</th>\n",
       "      <td>28.813333</td>\n",
       "      <td>29.076667</td>\n",
       "      <td>23.440000</td>\n",
       "      <td>20.336667</td>\n",
       "      <td>19.346667</td>\n",
       "    </tr>\n",
       "  </tbody>\n",
       "</table>\n",
       "</div>"
      ],
      "text/plain": [
       "       Cerrado_WC(1)  Cerrado_WC(2)  Cerrado_WC(3)  Cerrado_WC(4)  \\\n",
       "count    5319.000000   16483.000000   16483.000000   16483.000000   \n",
       "mean       12.202708      11.746648       8.988998       8.910687   \n",
       "std         5.413039       4.605882       3.498538       2.851619   \n",
       "min         6.290667       6.372667       6.251000       6.613000   \n",
       "25%         7.412167       7.467000       6.429000       6.769000   \n",
       "50%         9.783333      10.670000       7.165000       7.516000   \n",
       "75%        17.038333      14.340000      11.280000      10.980000   \n",
       "max        28.813333      29.076667      23.440000      20.336667   \n",
       "\n",
       "       Cerrado_WC(5)  \n",
       "count   16483.000000  \n",
       "mean        9.580559  \n",
       "std         2.841548  \n",
       "min         7.080000  \n",
       "25%         7.240500  \n",
       "50%         8.410000  \n",
       "75%        11.950000  \n",
       "max        19.346667  "
      ]
     },
     "execution_count": 13,
     "metadata": {},
     "output_type": "execute_result"
    }
   ],
   "source": [
    "v = ['Cerrado_WC(1)','Cerrado_WC(2)', 'Cerrado_WC(3)', 'Cerrado_WC(4)', 'Cerrado_WC(5)']\n",
    "df_2.loc[df_2['TIMESTAMP'].dt.year==2020, v].describe()"
   ]
  },
  {
   "cell_type": "code",
   "execution_count": 14,
   "id": "f73d6253-0bea-4b69-b0fa-4587a71da265",
   "metadata": {},
   "outputs": [],
   "source": [
    "df_2_2020 = df_2.loc[df_2['TIMESTAMP'].dt.year==2020, v+['TIMESTAMP']]"
   ]
  },
  {
   "cell_type": "code",
   "execution_count": 15,
   "id": "9fadd604-47ff-4b9a-8407-7e0765b56f7b",
   "metadata": {},
   "outputs": [
    {
     "data": {
      "text/plain": [
       "<AxesSubplot:>"
      ]
     },
     "execution_count": 15,
     "metadata": {},
     "output_type": "execute_result"
    },
    {
     "data": {
      "image/png": "[encoded data removed]",
      "text/plain": [
       "<Figure size 432x288 with 1 Axes>"
      ]
     },
     "metadata": {
      "needs_background": "light"
     },
     "output_type": "display_data"
    }
   ],
   "source": [
    "df_2_2020[v].plot()"
   ]
  },
  {
   "cell_type": "code",
   "execution_count": 16,
   "id": "940d90c9-bf86-437b-9b09-2d770b85962b",
   "metadata": {},
   "outputs": [],
   "source": [
    "df = pd.merge(df, df_2_2020, on='TIMESTAMP', how='outer')"
   ]
  },
  {
   "cell_type": "code",
   "execution_count": 17,
   "id": "b8e38ff6-713a-44c5-85ae-dbc20b2ea816",
   "metadata": {},
   "outputs": [
    {
     "data": {
      "text/html": [
       "<div>\n",
       "<style scoped>\n",
       "    .dataframe tbody tr th:only-of-type {\n",
       "        vertical-align: middle;\n",
       "    }\n",
       "\n",
       "    .dataframe tbody tr th {\n",
       "        vertical-align: top;\n",
       "    }\n",
       "\n",
       "    .dataframe thead th {\n",
       "        text-align: right;\n",
       "    }\n",
       "</style>\n",
       "<table border=\"1\" class=\"dataframe\">\n",
       "  <thead>\n",
       "    <tr style=\"text-align: right;\">\n",
       "      <th></th>\n",
       "      <th>TIMESTAMP</th>\n",
       "      <th>wind_dir</th>\n",
       "      <th>wind_dir_compass</th>\n",
       "    </tr>\n",
       "  </thead>\n",
       "  <tbody>\n",
       "    <tr>\n",
       "      <th>0</th>\n",
       "      <td>2020-01-01 07:00:00</td>\n",
       "      <td>256.551</td>\n",
       "      <td>31.651</td>\n",
       "    </tr>\n",
       "    <tr>\n",
       "      <th>1</th>\n",
       "      <td>2020-01-01 07:30:00</td>\n",
       "      <td>252.850</td>\n",
       "      <td>27.950</td>\n",
       "    </tr>\n",
       "    <tr>\n",
       "      <th>2</th>\n",
       "      <td>2020-01-01 08:00:00</td>\n",
       "      <td>232.333</td>\n",
       "      <td>7.433</td>\n",
       "    </tr>\n",
       "    <tr>\n",
       "      <th>3</th>\n",
       "      <td>2020-01-01 08:30:00</td>\n",
       "      <td>217.488</td>\n",
       "      <td>352.588</td>\n",
       "    </tr>\n",
       "    <tr>\n",
       "      <th>4</th>\n",
       "      <td>2020-01-01 09:00:00</td>\n",
       "      <td>206.447</td>\n",
       "      <td>341.547</td>\n",
       "    </tr>\n",
       "    <tr>\n",
       "      <th>...</th>\n",
       "      <td>...</td>\n",
       "      <td>...</td>\n",
       "      <td>...</td>\n",
       "    </tr>\n",
       "    <tr>\n",
       "      <th>17563</th>\n",
       "      <td>2020-12-31 21:30:00</td>\n",
       "      <td>NaN</td>\n",
       "      <td>NaN</td>\n",
       "    </tr>\n",
       "    <tr>\n",
       "      <th>17564</th>\n",
       "      <td>2020-12-31 22:00:00</td>\n",
       "      <td>NaN</td>\n",
       "      <td>NaN</td>\n",
       "    </tr>\n",
       "    <tr>\n",
       "      <th>17565</th>\n",
       "      <td>2020-12-31 22:30:00</td>\n",
       "      <td>NaN</td>\n",
       "      <td>NaN</td>\n",
       "    </tr>\n",
       "    <tr>\n",
       "      <th>17566</th>\n",
       "      <td>2020-12-31 23:00:00</td>\n",
       "      <td>NaN</td>\n",
       "      <td>NaN</td>\n",
       "    </tr>\n",
       "    <tr>\n",
       "      <th>17567</th>\n",
       "      <td>2020-12-31 23:30:00</td>\n",
       "      <td>NaN</td>\n",
       "      <td>NaN</td>\n",
       "    </tr>\n",
       "  </tbody>\n",
       "</table>\n",
       "<p>17568 rows × 3 columns</p>\n",
       "</div>"
      ],
      "text/plain": [
       "                TIMESTAMP  wind_dir  wind_dir_compass\n",
       "0     2020-01-01 07:00:00   256.551            31.651\n",
       "1     2020-01-01 07:30:00   252.850            27.950\n",
       "2     2020-01-01 08:00:00   232.333             7.433\n",
       "3     2020-01-01 08:30:00   217.488           352.588\n",
       "4     2020-01-01 09:00:00   206.447           341.547\n",
       "...                   ...       ...               ...\n",
       "17563 2020-12-31 21:30:00       NaN               NaN\n",
       "17564 2020-12-31 22:00:00       NaN               NaN\n",
       "17565 2020-12-31 22:30:00       NaN               NaN\n",
       "17566 2020-12-31 23:00:00       NaN               NaN\n",
       "17567 2020-12-31 23:30:00       NaN               NaN\n",
       "\n",
       "[17568 rows x 3 columns]"
      ]
     },
     "execution_count": 17,
     "metadata": {},
     "output_type": "execute_result"
    }
   ],
   "source": [
    "df[['TIMESTAMP','wind_dir','wind_dir_compass']]"
   ]
  },
  {
   "cell_type": "code",
   "execution_count": null,
   "id": "36feb85b-ff0a-4d78-b88b-ee18fe414773",
   "metadata": {},
   "outputs": [],
   "source": []
  },
  {
   "cell_type": "code",
   "execution_count": null,
   "id": "c911c6a6-21f1-431b-8f04-9aab713491a3",
   "metadata": {},
   "outputs": [],
   "source": []
  },
  {
   "cell_type": "code",
   "execution_count": 18,
   "id": "ac860c2c-9986-47de-a3e7-b7defd50f26e",
   "metadata": {},
   "outputs": [],
   "source": [
    "df['air_temperature'] = df['air_temperature']-273.15"
   ]
  },
  {
   "cell_type": "code",
   "execution_count": 19,
   "id": "aae47aa4-f92e-43c3-bf9d-b080c57bfb5f",
   "metadata": {},
   "outputs": [],
   "source": [
    "df = pd.merge(df, evi_df, on='TIMESTAMP', how='inner')"
   ]
  },
  {
   "cell_type": "code",
   "execution_count": 20,
   "id": "8ccb84fc-7575-4b21-ada8-26cde00bd7f5",
   "metadata": {},
   "outputs": [],
   "source": [
    "df.loc[df['TIMESTAMP'].dt.month.isin([1,2,12]), 'Season'] = 'Summer'\n",
    "df.loc[df['TIMESTAMP'].dt.month.isin([3,4,5]), 'Season'] = 'Autumn'\n",
    "df.loc[df['TIMESTAMP'].dt.month.isin([6,7,8]), 'Season'] = 'Winter'\n",
    "df.loc[df['TIMESTAMP'].dt.month.isin([9,10,11]), 'Season'] = 'Spring'"
   ]
  },
  {
   "cell_type": "code",
   "execution_count": 21,
   "id": "372fe7ab-f726-4785-be99-139ed4e2fffe",
   "metadata": {},
   "outputs": [],
   "source": [
    "df = df.loc[df['flag_basic']==True]\n",
    "df2 = df.loc[df['flag_full']==True]\n",
    "df_r = df.loc[(df['flag_basic']==True)&\n",
    "              (df['flag_full']==False)]"
   ]
  },
  {
   "cell_type": "code",
   "execution_count": 22,
   "id": "9eff09c2-5d96-4860-a304-ff7170a4fb7e",
   "metadata": {},
   "outputs": [
    {
     "name": "stderr",
     "output_type": "stream",
     "text": [
      "C:\\Users\\Alex\\anaconda3\\envs\\Masters\\lib\\site-packages\\seaborn\\axisgrid.py:88: UserWarning: Tight layout not applied. tight_layout cannot make axes height small enough to accommodate all axes decorations.\n",
      "  self._figure.tight_layout(*args, **kwargs)\n",
      "C:\\Users\\Alex\\anaconda3\\envs\\Masters\\lib\\site-packages\\seaborn\\axisgrid.py:88: UserWarning: Tight layout not applied. tight_layout cannot make axes height small enough to accommodate all axes decorations.\n",
      "  self._figure.tight_layout(*args, **kwargs)\n",
      "C:\\Users\\Alex\\anaconda3\\envs\\Masters\\lib\\site-packages\\seaborn\\axisgrid.py:88: UserWarning: Tight layout not applied. tight_layout cannot make axes height small enough to accommodate all axes decorations.\n",
      "  self._figure.tight_layout(*args, **kwargs)\n"
     ]
    },
    {
     "ename": "ValueError",
     "evalue": "not enough values to unpack (expected 2, got 1)",
     "output_type": "error",
     "traceback": [
      "\u001b[1;31m---------------------------------------------------------------------------\u001b[0m",
      "\u001b[1;31mValueError\u001b[0m                                Traceback (most recent call last)",
      "Input \u001b[1;32mIn [22]\u001b[0m, in \u001b[0;36m<cell line: 27>\u001b[1;34m()\u001b[0m\n\u001b[0;32m     22\u001b[0m     ax\u001b[38;5;241m.\u001b[39mtext(\u001b[38;5;241m0.8\u001b[39m, \u001b[38;5;241m.2\u001b[39m, label, fontweight\u001b[38;5;241m=\u001b[39m\u001b[38;5;124m\"\u001b[39m\u001b[38;5;124mbold\u001b[39m\u001b[38;5;124m\"\u001b[39m, color\u001b[38;5;241m=\u001b[39mcolor,\n\u001b[0;32m     23\u001b[0m             ha\u001b[38;5;241m=\u001b[39m\u001b[38;5;124m\"\u001b[39m\u001b[38;5;124mleft\u001b[39m\u001b[38;5;124m\"\u001b[39m, va\u001b[38;5;241m=\u001b[39m\u001b[38;5;124m\"\u001b[39m\u001b[38;5;124mcenter\u001b[39m\u001b[38;5;124m\"\u001b[39m, transform\u001b[38;5;241m=\u001b[39max\u001b[38;5;241m.\u001b[39mtransAxes)\n\u001b[0;32m     25\u001b[0m     ax\u001b[38;5;241m.\u001b[39mannotate(\u001b[38;5;241m0.9\u001b[39m, \u001b[38;5;241m0.2\u001b[39m, \u001b[38;5;124m'\u001b[39m\u001b[38;5;124mt\u001b[39m\u001b[38;5;124m'\u001b[39m, transform\u001b[38;5;241m=\u001b[39max\u001b[38;5;241m.\u001b[39mtransAxes)\n\u001b[1;32m---> 27\u001b[0m \u001b[43mg\u001b[49m\u001b[38;5;241;43m.\u001b[39;49m\u001b[43mmap\u001b[49m\u001b[43m(\u001b[49m\u001b[43mlabel\u001b[49m\u001b[43m,\u001b[49m\u001b[43m \u001b[49m\u001b[38;5;124;43m\"\u001b[39;49m\u001b[38;5;124;43mgc\u001b[39;49m\u001b[38;5;124;43m\"\u001b[39;49m\u001b[43m)\u001b[49m\n\u001b[0;32m     28\u001b[0m g\u001b[38;5;241m.\u001b[39mfigure\u001b[38;5;241m.\u001b[39msubplots_adjust(hspace\u001b[38;5;241m=\u001b[39m\u001b[38;5;241m-\u001b[39m\u001b[38;5;241m.25\u001b[39m)\n\u001b[0;32m     31\u001b[0m g\u001b[38;5;241m.\u001b[39mset_titles(\u001b[38;5;124m\"\u001b[39m\u001b[38;5;124m\"\u001b[39m)\n",
      "File \u001b[1;32m~\\anaconda3\\envs\\Masters\\lib\\site-packages\\seaborn\\axisgrid.py:710\u001b[0m, in \u001b[0;36mFacetGrid.map\u001b[1;34m(self, func, *args, **kwargs)\u001b[0m\n\u001b[0;32m    707\u001b[0m         plot_args \u001b[38;5;241m=\u001b[39m [v\u001b[38;5;241m.\u001b[39mvalues \u001b[38;5;28;01mfor\u001b[39;00m v \u001b[38;5;129;01min\u001b[39;00m plot_args]\n\u001b[0;32m    709\u001b[0m     \u001b[38;5;66;03m# Draw the plot\u001b[39;00m\n\u001b[1;32m--> 710\u001b[0m     \u001b[38;5;28;43mself\u001b[39;49m\u001b[38;5;241;43m.\u001b[39;49m\u001b[43m_facet_plot\u001b[49m\u001b[43m(\u001b[49m\u001b[43mfunc\u001b[49m\u001b[43m,\u001b[49m\u001b[43m \u001b[49m\u001b[43max\u001b[49m\u001b[43m,\u001b[49m\u001b[43m \u001b[49m\u001b[43mplot_args\u001b[49m\u001b[43m,\u001b[49m\u001b[43m \u001b[49m\u001b[43mkwargs\u001b[49m\u001b[43m)\u001b[49m\n\u001b[0;32m    712\u001b[0m \u001b[38;5;66;03m# Finalize the annotations and layout\u001b[39;00m\n\u001b[0;32m    713\u001b[0m \u001b[38;5;28mself\u001b[39m\u001b[38;5;241m.\u001b[39m_finalize_grid(args[:\u001b[38;5;241m2\u001b[39m])\n",
      "File \u001b[1;32m~\\anaconda3\\envs\\Masters\\lib\\site-packages\\seaborn\\axisgrid.py:806\u001b[0m, in \u001b[0;36mFacetGrid._facet_plot\u001b[1;34m(self, func, ax, plot_args, plot_kwargs)\u001b[0m\n\u001b[0;32m    804\u001b[0m     plot_args \u001b[38;5;241m=\u001b[39m []\n\u001b[0;32m    805\u001b[0m     plot_kwargs[\u001b[38;5;124m\"\u001b[39m\u001b[38;5;124max\u001b[39m\u001b[38;5;124m\"\u001b[39m] \u001b[38;5;241m=\u001b[39m ax\n\u001b[1;32m--> 806\u001b[0m func(\u001b[38;5;241m*\u001b[39mplot_args, \u001b[38;5;241m*\u001b[39m\u001b[38;5;241m*\u001b[39mplot_kwargs)\n\u001b[0;32m    808\u001b[0m \u001b[38;5;66;03m# Sort out the supporting information\u001b[39;00m\n\u001b[0;32m    809\u001b[0m \u001b[38;5;28mself\u001b[39m\u001b[38;5;241m.\u001b[39m_update_legend_data(ax)\n",
      "Input \u001b[1;32mIn [22]\u001b[0m, in \u001b[0;36mlabel\u001b[1;34m(x, color, label)\u001b[0m\n\u001b[0;32m     21\u001b[0m ax \u001b[38;5;241m=\u001b[39m plt\u001b[38;5;241m.\u001b[39mgca()\n\u001b[0;32m     22\u001b[0m ax\u001b[38;5;241m.\u001b[39mtext(\u001b[38;5;241m0.8\u001b[39m, \u001b[38;5;241m.2\u001b[39m, label, fontweight\u001b[38;5;241m=\u001b[39m\u001b[38;5;124m\"\u001b[39m\u001b[38;5;124mbold\u001b[39m\u001b[38;5;124m\"\u001b[39m, color\u001b[38;5;241m=\u001b[39mcolor,\n\u001b[0;32m     23\u001b[0m         ha\u001b[38;5;241m=\u001b[39m\u001b[38;5;124m\"\u001b[39m\u001b[38;5;124mleft\u001b[39m\u001b[38;5;124m\"\u001b[39m, va\u001b[38;5;241m=\u001b[39m\u001b[38;5;124m\"\u001b[39m\u001b[38;5;124mcenter\u001b[39m\u001b[38;5;124m\"\u001b[39m, transform\u001b[38;5;241m=\u001b[39max\u001b[38;5;241m.\u001b[39mtransAxes)\n\u001b[1;32m---> 25\u001b[0m \u001b[43max\u001b[49m\u001b[38;5;241;43m.\u001b[39;49m\u001b[43mannotate\u001b[49m\u001b[43m(\u001b[49m\u001b[38;5;241;43m0.9\u001b[39;49m\u001b[43m,\u001b[49m\u001b[43m \u001b[49m\u001b[38;5;241;43m0.2\u001b[39;49m\u001b[43m,\u001b[49m\u001b[43m \u001b[49m\u001b[38;5;124;43m'\u001b[39;49m\u001b[38;5;124;43mt\u001b[39;49m\u001b[38;5;124;43m'\u001b[39;49m\u001b[43m,\u001b[49m\u001b[43m \u001b[49m\u001b[43mtransform\u001b[49m\u001b[38;5;241;43m=\u001b[39;49m\u001b[43max\u001b[49m\u001b[38;5;241;43m.\u001b[39;49m\u001b[43mtransAxes\u001b[49m\u001b[43m)\u001b[49m\n",
      "File \u001b[1;32m~\\anaconda3\\envs\\Masters\\lib\\site-packages\\matplotlib\\axes\\_axes.py:666\u001b[0m, in \u001b[0;36mAxes.annotate\u001b[1;34m(self, text, xy, *args, **kwargs)\u001b[0m\n\u001b[0;32m    664\u001b[0m \u001b[38;5;129m@docstring\u001b[39m\u001b[38;5;241m.\u001b[39mdedent_interpd\n\u001b[0;32m    665\u001b[0m \u001b[38;5;28;01mdef\u001b[39;00m \u001b[38;5;21mannotate\u001b[39m(\u001b[38;5;28mself\u001b[39m, text, xy, \u001b[38;5;241m*\u001b[39margs, \u001b[38;5;241m*\u001b[39m\u001b[38;5;241m*\u001b[39mkwargs):\n\u001b[1;32m--> 666\u001b[0m     a \u001b[38;5;241m=\u001b[39m mtext\u001b[38;5;241m.\u001b[39mAnnotation(text, xy, \u001b[38;5;241m*\u001b[39margs, \u001b[38;5;241m*\u001b[39m\u001b[38;5;241m*\u001b[39mkwargs)\n\u001b[0;32m    667\u001b[0m     a\u001b[38;5;241m.\u001b[39mset_transform(mtransforms\u001b[38;5;241m.\u001b[39mIdentityTransform())\n\u001b[0;32m    668\u001b[0m     \u001b[38;5;28;01mif\u001b[39;00m \u001b[38;5;124m'\u001b[39m\u001b[38;5;124mclip_on\u001b[39m\u001b[38;5;124m'\u001b[39m \u001b[38;5;129;01min\u001b[39;00m kwargs:\n",
      "File \u001b[1;32m~\\anaconda3\\envs\\Masters\\lib\\site-packages\\matplotlib\\text.py:1808\u001b[0m, in \u001b[0;36mAnnotation.__init__\u001b[1;34m(self, text, xy, xytext, xycoords, textcoords, arrowprops, annotation_clip, **kwargs)\u001b[0m\n\u001b[0;32m   1806\u001b[0m \u001b[38;5;28;01mif\u001b[39;00m xytext \u001b[38;5;129;01mis\u001b[39;00m \u001b[38;5;28;01mNone\u001b[39;00m:\n\u001b[0;32m   1807\u001b[0m     xytext \u001b[38;5;241m=\u001b[39m \u001b[38;5;28mself\u001b[39m\u001b[38;5;241m.\u001b[39mxy\n\u001b[1;32m-> 1808\u001b[0m x, y \u001b[38;5;241m=\u001b[39m xytext\n\u001b[0;32m   1810\u001b[0m \u001b[38;5;28mself\u001b[39m\u001b[38;5;241m.\u001b[39marrowprops \u001b[38;5;241m=\u001b[39m arrowprops\n\u001b[0;32m   1811\u001b[0m \u001b[38;5;28;01mif\u001b[39;00m arrowprops \u001b[38;5;129;01mis\u001b[39;00m \u001b[38;5;129;01mnot\u001b[39;00m \u001b[38;5;28;01mNone\u001b[39;00m:\n",
      "\u001b[1;31mValueError\u001b[0m: not enough values to unpack (expected 2, got 1)"
     ]
    },
    {
     "data": {
      "image/png": "[encoded data removed]",
      "text/plain": [
       "<Figure size 360x144 with 4 Axes>"
      ]
     },
     "metadata": {},
     "output_type": "display_data"
    }
   ],
   "source": [
    "sns.set_theme(style=\"white\", rc={\"axes.facecolor\": (0, 0, 0, 0)})\n",
    "\n",
    "colors = ['#d98088','#e6c095','#9bb7e0','#b9e69c']\n",
    "\n",
    "#summer, autumn, winter, spring\n",
    "# colors = ['#b84f51','#c98806','#6cc9e6','#9fc468']\n",
    "my_palette = sns.color_palette(colors)\n",
    "\n",
    "pal = sns.cubehelix_palette(6, rot=-.25, light=.7)\n",
    "g = sns.FacetGrid(df.loc[df['flag_basic']==True], row=\"Season\", hue=\"Season\", aspect=10, height=0.5, palette=my_palette)\n",
    "\n",
    "g.map(sns.kdeplot, 'gc',\n",
    "      bw_adjust=.5, clip_on=False,\n",
    "      fill=True, alpha=1, linewidth=1.5)\n",
    "\n",
    "g.map(sns.kdeplot, \"gc\", clip_on=False, color=\"w\", lw=2, bw_adjust=.5)\n",
    "\n",
    "g.refline(y=0, linewidth=2, linestyle=\"-\", color=None, clip_on=False)\n",
    "\n",
    "def label(x, color, label):\n",
    "    ax = plt.gca()\n",
    "    ax.text(0.8, .2, label, fontweight=\"bold\", color=color,\n",
    "            ha=\"left\", va=\"center\", transform=ax.transAxes)\n",
    "    \n",
    "    ax.annotate(0.9, 0.2, 't', transform=ax.transAxes)\n",
    "    \n",
    "g.map(label, \"gc\")\n",
    "g.figure.subplots_adjust(hspace=-.25)\n",
    "\n",
    "\n",
    "g.set_titles(\"\")\n",
    "g.set(yticks=[], ylabel=\"\")\n",
    "g.set_xlabels('$g_c \\; [m \\; s^{-1}]$')\n",
    "g.despine(bottom=True, left=True)\n",
    "# g.set(xlim=(0,0.017))\n",
    "sns.set_theme()\n",
    "\n",
    "# g.savefig(final_imgFolder/'gc-density_allseasons.png', dpi=300)"
   ]
  },
  {
   "cell_type": "code",
   "execution_count": 23,
   "id": "fff8e857-03fe-4101-bb8c-b71c6d37b6c3",
   "metadata": {},
   "outputs": [
    {
     "name": "stderr",
     "output_type": "stream",
     "text": [
      "C:\\Users\\Alex\\anaconda3\\envs\\Masters\\lib\\site-packages\\seaborn\\axisgrid.py:88: UserWarning: Tight layout not applied. tight_layout cannot make axes height small enough to accommodate all axes decorations.\n",
      "  self._figure.tight_layout(*args, **kwargs)\n",
      "C:\\Users\\Alex\\anaconda3\\envs\\Masters\\lib\\site-packages\\seaborn\\axisgrid.py:88: UserWarning: Tight layout not applied. tight_layout cannot make axes height small enough to accommodate all axes decorations.\n",
      "  self._figure.tight_layout(*args, **kwargs)\n",
      "C:\\Users\\Alex\\anaconda3\\envs\\Masters\\lib\\site-packages\\seaborn\\axisgrid.py:88: UserWarning: Tight layout not applied. tight_layout cannot make axes height small enough to accommodate all axes decorations.\n",
      "  self._figure.tight_layout(*args, **kwargs)\n",
      "C:\\Users\\Alex\\anaconda3\\envs\\Masters\\lib\\site-packages\\seaborn\\axisgrid.py:88: UserWarning: Tight layout not applied. tight_layout cannot make axes height small enough to accommodate all axes decorations.\n",
      "  self._figure.tight_layout(*args, **kwargs)\n"
     ]
    },
    {
     "data": {
      "image/png": "[encoded data removed]",
      "text/plain": [
       "<Figure size 360x144 with 4 Axes>"
      ]
     },
     "metadata": {},
     "output_type": "display_data"
    }
   ],
   "source": [
    "sns.set_theme(style=\"white\", rc={\"axes.facecolor\": (0, 0, 0, 0)})\n",
    "\n",
    "colors = ['#d98088','#e6c095','#9bb7e0','#b9e69c']\n",
    "\n",
    "#summer, autumn, winter, spring\n",
    "# colors = ['#b84f51','#c98806','#6cc9e6','#9fc468']\n",
    "my_palette = sns.color_palette(colors)\n",
    "\n",
    "pal = sns.cubehelix_palette(6, rot=-.25, light=.7)\n",
    "g = sns.FacetGrid(df.loc[df['flag_basic']==True], row=\"Season\", hue=\"Season\", aspect=10, height=0.5, palette=my_palette)\n",
    "\n",
    "g.map(sns.kdeplot, 'Omega',\n",
    "      bw_adjust=.5, clip_on=False,\n",
    "      fill=True, alpha=1, linewidth=1.5)\n",
    "\n",
    "g.map(sns.kdeplot, \"Omega\", clip_on=False, color=\"w\", lw=2, bw_adjust=.5)\n",
    "\n",
    "g.refline(y=0, linewidth=2, linestyle=\"-\", color=None, clip_on=False)\n",
    "\n",
    "def label(x, color, label):\n",
    "    ax = plt.gca()\n",
    "    ax.text(0.8, .2, label, fontweight=\"bold\", color=color,\n",
    "            ha=\"left\", va=\"center\", transform=ax.transAxes)\n",
    "    \n",
    "g.map(label, \"Omega\")\n",
    "\n",
    "g.figure.subplots_adjust(hspace=-.25)\n",
    "\n",
    "g.set_titles(\"\")\n",
    "g.set(yticks=[], ylabel=\"\")\n",
    "g.set_xlabels('$\\Omega \\; [-]$')\n",
    "g.despine(bottom=True, left=True)\n",
    "# g.set(xlim=(0,0.017))\n",
    "sns.set_theme()\n",
    "\n",
    "# g.savefig(final_imgFolder/'omega-density_allseasons.png', dpi=300)"
   ]
  },
  {
   "cell_type": "code",
   "execution_count": 27,
   "id": "bf96246a-a50b-4069-a4c7-324b53765fe4",
   "metadata": {},
   "outputs": [
    {
     "name": "stdout",
     "output_type": "stream",
     "text": [
      "Summer\n",
      "Omega    0.307756\n",
      "gc       0.008002\n",
      "dtype: float64\n",
      "Autumn\n",
      "Omega    0.232801\n",
      "gc       0.006365\n",
      "dtype: float64\n",
      "Winter\n",
      "Omega    0.161726\n",
      "gc       0.003782\n",
      "dtype: float64\n",
      "Spring\n",
      "Omega    0.144851\n",
      "gc       0.003726\n",
      "dtype: float64\n"
     ]
    }
   ],
   "source": [
    "for s in df['Season'].unique():\n",
    "    print(s)\n",
    "    print(df.loc[df['Season']==s,['Omega','gc']].mean())"
   ]
  },
  {
   "cell_type": "code",
   "execution_count": 28,
   "id": "dff8904a-39e0-4578-8f76-8c56e309f318",
   "metadata": {},
   "outputs": [
    {
     "data": {
      "text/plain": [
       "0.20999993148741247"
      ]
     },
     "execution_count": 28,
     "metadata": {},
     "output_type": "execute_result"
    }
   ],
   "source": [
    "df['Omega'].mean()"
   ]
  },
  {
   "cell_type": "code",
   "execution_count": null,
   "id": "91385da0-5404-4f01-aa6e-2fe2be22c9ac",
   "metadata": {},
   "outputs": [],
   "source": []
  }
 ],
 "metadata": {
  "kernelspec": {
   "display_name": "Masters",
   "language": "python",
   "name": "masters"
  },
  "language_info": {
   "codemirror_mode": {
    "name": "ipython",
    "version": 3
   },
   "file_extension": ".py",
   "mimetype": "text/x-python",
   "name": "python",
   "nbconvert_exporter": "python",
   "pygments_lexer": "ipython3",
   "version": "3.9.12"
  }
 },
 "nbformat": 4,
 "nbformat_minor": 5
}
